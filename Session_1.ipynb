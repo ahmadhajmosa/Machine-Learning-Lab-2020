{
  "nbformat": 4,
  "nbformat_minor": 0,
  "metadata": {
    "colab": {
      "name": "Session 1.ipynb",
      "provenance": [],
      "collapsed_sections": [],
      "toc_visible": true,
      "include_colab_link": true
    },
    "kernelspec": {
      "name": "python3",
      "display_name": "Python 3"
    },
    "accelerator": "GPU"
  },
  "cells": [
    {
      "cell_type": "markdown",
      "metadata": {
        "id": "view-in-github",
        "colab_type": "text"
      },
      "source": [
        "<a href=\"https://colab.research.google.com/github/ahmadhajmosa/Machine-Learning-Lab-2020/blob/Mohamad-Al-Sayed/Session_1.ipynb\" target=\"_parent\"><img src=\"https://colab.research.google.com/assets/colab-badge.svg\" alt=\"Open In Colab\"/></a>"
      ]
    },
    {
      "cell_type": "markdown",
      "metadata": {
        "id": "rmSUExzC-ZBV",
        "colab_type": "text"
      },
      "source": [
        "Hello Github\n"
      ]
    },
    {
      "cell_type": "markdown",
      "metadata": {
        "id": "wgWZldyi-Zef",
        "colab_type": "text"
      },
      "source": [
        "# Lab on Machine Learning and Applications in Intelligent Vehicles\n",
        "## Session 1: Introduction\n"
      ]
    },
    {
      "cell_type": "markdown",
      "metadata": {
        "id": "j1T4XAd1_fJk",
        "colab_type": "text"
      },
      "source": [
        "### Course Plan:\n",
        "\n",
        "This lab is a continuation to the Machine learning lecture, the objective of this course is to learn how to model and implement neural networks using deep learning python frameworks: \n",
        "1. Tensorflow\n",
        "2. Keras\n",
        "3. Pytorch\n",
        "\n",
        "Useing these frameworks, we will go through the following topics and use cases:\n",
        "\n",
        "#### Session 1: 05.06 - 09:00 - 11:00  :\n",
        "\n",
        ">#### Presentation:  05.06 - 09:00 - 10:30:\n",
        ">1. Introduction to deep learning frameworks\n",
        "2. Deep learning in Numpy\n",
        "\n",
        ">#### Break:  05.06 - 10:30 - 10:45\n",
        ">#### Assignment:  05.06 - 10:45 - 11:45 : \n",
        ">* Implementation of backprop using numpy\n",
        "\n",
        ">1. Tensorflow backround \n",
        "2. Implementation of feedforward neural networks using Tensorflow\n",
        "\n",
        ">#### Break:  05.06 - 10:00 - 10:15\n",
        ">#### Assignment:  05.06 - 10:15 - 10:45 : \n",
        "  \n",
        "  >* play around with tensorflow and build your first neural network\n",
        "\n",
        "\n",
        "\n",
        "#### Session 2:  05.06 - 11:00 - 12:00  :\n",
        "\n",
        ">#### Presentation:  05.06 - 11:00 - 12:00:\n",
        "\n",
        "\n",
        ">3. Implementation of CNN useing Tensorflow\n",
        "4. Tensorboard\n",
        "\n",
        ">#### Break:  05.06 - 12:00 - 13:00\n",
        ">#### Assignment:  05.06 - 13:00 - 13:30 :\n",
        "\n",
        "\n",
        " #### Session 3:  05.06 - 13:30 - 15:00  :\n",
        "\n",
        ">#### Presentation:  05.06 - 13:00 - 14:00:\n",
        "\n",
        ">5. Introduction to Keras\n",
        "6. CNN using Keras\n",
        ">#### Break:  05.06 - 14:00 - 14:15\n",
        ">#### Assignment:  05.06 - 14:15 - 14:45 :\n",
        "\n",
        " #### Session 4:  05.06 - 15:00 - 16:30  :\n",
        "\n",
        ">#### Presentation:  05.06 - 15:00 - 15:45:\n",
        "\n",
        ">7. LSTM using Keras\n",
        "\n",
        ">#### Break:  05.06 - 15:45 - 16:00\n",
        ">#### Assignment:  05.06 - 16:00 - 16:30 :\n",
        "\n",
        "\n",
        "8. VGG, Inceptaion, ResNet models using Keras\n",
        "\n",
        "9. Autoencoders using Keras\n",
        "\n",
        "10. Sequence to Sequence Models using Keras \n",
        "\n",
        "11. Attention Mechanism using Keras\n",
        "12. GANS \n",
        "13. Introduction to Pytorch\n",
        "14. Machine translation using Pytorch\n",
        "15. Introduction to Allennlp\n",
        "16. Deep Reinforcment Learning using Keras\n",
        "17. Use case: building self driving car using Unity and tensorflow\n",
        "\n",
        "\n",
        "\n",
        "\n",
        "\n",
        "\n",
        "\n",
        "\n"
      ]
    },
    {
      "cell_type": "markdown",
      "metadata": {
        "id": "a75NLOuwKXSs",
        "colab_type": "text"
      },
      "source": [
        "#Session 1: 05.06 - 09:00 - 11:00 :\n"
      ]
    },
    {
      "cell_type": "markdown",
      "metadata": {
        "id": "ciUtGM-W_ehP",
        "colab_type": "text"
      },
      "source": [
        "\n",
        "\n",
        "## Deep learning frameworks:\n",
        "\n",
        "In the past decade, many deep learning frameworks have been developed to ease and scale the research and development of AI. Many big technology providers including Google, IBM, Microsoft and Facebook have entered the race to provide the best and most popluar frameworks. To enter such a race, mainly four features are considered in the provided framework:\n",
        "\n",
        "1. Uses a popular language for data scientists (Python, Scale, C++ or R)\n",
        "2. Flexible in creating and adjusting deep learning architectures -> Functional programming\n",
        "3. Easy for computing gradients\n",
        "4. Interface with GPUs for parallel processing\n",
        "\n",
        "\n",
        "In the following we see the most popular provided deep learning frameworks with their providers\n",
        "https://towardsdatascience.com/deep-learning-framework-power-scores-2018-23607ddf297a\n",
        "\n",
        "![alt text](https://cdn-images-1.medium.com/max/1600/1*dYjDEI0mLpsCOySKUuX1VA.png)\n",
        "\n",
        "## Tensorflow\n",
        "TensorFlow is the undisputed heavyweight champion. It has the most GitHub activity, Google searches, Medium articles, books on Amazon and ArXiv articles. It also has the most developers using it and is listed in the most online job descriptions. TensorFlow is backed by Google.\n",
        "\n",
        "## Keras\n",
        "Keras has an “API designed for human beings, not machines.” It is the second most popular framework in nearly all evaluation areas. Keras sits on top of TensorFlow, Theano, or CNTK. Start with Keras if you are new to deep learning.\n",
        "\n",
        "## Pytorch\n",
        "\n",
        "PyTorch is the third most popular overall framework and the second most popular stand-alone framework. It is younger than TensorFlow and has grown rapidly in popularity. It allows customization that TensorFlow does not. It has the backing of Facebook.\n",
        "\n",
        "## Theano\n",
        "\n",
        "Theano was developed at the University of Montreal in 2007 and is the oldest significant Python deep learning framework. It has lost much of its popularity and its leader stated that major releases were no longer on the roadmap. However, updates continue to be made. Theano still the fifth highest scoring framework.\n",
        "\n",
        "# Comparision:\n",
        "\n",
        "## Criteria 1: Online Job Listings\n",
        "\n",
        "TensorFlow is the clear winner when it comes to frameworks mentioned in job listings. Learn it if you want a job doing deep learning.\n",
        "\n",
        ">> ![alt text](https://cdn-images-1.medium.com/max/800/1*kA8dIgRqLdWgKgs2sd7clA.png)\n",
        "\n",
        "## Criteria 2: Usage\n",
        "\n",
        "\n",
        "Keras showed a surprising amount of use — nearly as much as TensorFlow. It’s interesting that US employers are overwhelmingly looking for TensorFlow skills, when — at least internationally — Keras is used almost as frequently.\n",
        "\n",
        "  >> ![alt text](https://cdn-images-1.medium.com/max/800/1*6b2Tm0oFr99zKaxkr4g52w.png)\n",
        "  \n",
        "  \n",
        "## Criteria 4: Google Search Activity\n",
        "\n",
        ">> ![alt text](https://cdn-images-1.medium.com/max/800/1*wpA6C9x_Nri42EzbqnS1fQ.png)\n",
        "\n",
        "## Criteria 5: Medium Articles\n",
        "\n",
        ">> ![alt text](https://cdn-images-1.medium.com/max/800/1*Y1cJUgZTC3u_hU1lmdsroQ.png)\n",
        "\n",
        "\n",
        "## Criteria 6: Amazon Books\n",
        "\n",
        ">> ![alt text](https://cdn-images-1.medium.com/max/800/1*mtP47q29T6agdkEoJcCw-w.png)\n",
        "\n",
        "## Criteria 7 : ArXiv Articles\n",
        "\n",
        "  >> ![alt text](https://cdn-images-1.medium.com/max/800/1*7jdNoNkGlx_1EnfevQXRvw.png)\n",
        "  \n",
        "## Criteria 8: GitHub Activity\n",
        "\n",
        "  >> ![alt text](https://cdn-images-1.medium.com/max/800/1*eOOYV3C5klsuVBMX31ngxw.png)\n",
        "  \n",
        " --------------------------------\n",
        " \n",
        "\n",
        "\n",
        "  \n",
        " \n",
        "\n",
        "\n",
        "\n",
        "\n"
      ]
    },
    {
      "cell_type": "markdown",
      "metadata": {
        "id": "9v3V8ztAKDCg",
        "colab_type": "text"
      },
      "source": [
        "\n",
        "\n",
        "```\n",
        "# This is formatted as code\n",
        "```\n",
        "\n",
        "\n",
        "Before we jump into Tensorflow, we will implemented our first neural network model using Python Numpy package. NumPy is the fundamental package for scientific computing with Python, such as:\n",
        "\n",
        "1. Linear Algebra\n",
        "2. Statistics\n",
        "3. Calculus\n",
        "\n",
        "## A brief intro to Numpy operations:\n",
        "\n",
        "1. Creating a Vector:\n",
        "Here we use Numpy to create a 1-D Array which we then call a vector.\n",
        "\n",
        "\n",
        "\n"
      ]
    },
    {
      "cell_type": "code",
      "metadata": {
        "id": "GTf7M4r7Lgj9",
        "colab_type": "code",
        "colab": {}
      },
      "source": [
        "#Load Library\n",
        "#numpy backend is C++ that's why it is faster than other libraries\n",
        "import numpy as np\n",
        "\n",
        "#Create a vector as a Row\n",
        "vector_row = np.array([1,2,3])\n",
        "\n",
        "#Create vector as a Column\n",
        "vector_column = np.array([[1],[2],[3]])"
      ],
      "execution_count": 1,
      "outputs": []
    },
    {
      "cell_type": "code",
      "metadata": {
        "id": "pqzMlfJyAU2A",
        "colab_type": "code",
        "colab": {
          "base_uri": "https://localhost:8080/",
          "height": 67
        },
        "outputId": "12da35b4-dcfc-4883-f3b0-fbcd020ba2e8"
      },
      "source": [
        "display(vector_row.shape) # 1 row and three columns\n",
        "display(vector_column.shape)# 3 rows and 1 column\n",
        "display(type(vector_column))"
      ],
      "execution_count": 6,
      "outputs": [
        {
          "output_type": "display_data",
          "data": {
            "text/plain": [
              "(3,)"
            ]
          },
          "metadata": {
            "tags": []
          }
        },
        {
          "output_type": "display_data",
          "data": {
            "text/plain": [
              "(3, 1)"
            ]
          },
          "metadata": {
            "tags": []
          }
        },
        {
          "output_type": "display_data",
          "data": {
            "text/plain": [
              "numpy.ndarray"
            ]
          },
          "metadata": {
            "tags": []
          }
        }
      ]
    },
    {
      "cell_type": "markdown",
      "metadata": {
        "id": "JYFjSo0OLqA3",
        "colab_type": "text"
      },
      "source": [
        "2. Creating a Matrix\n",
        "We Create a 2-D Array in Numpy and call it a Matrix. It contains 2 rows and 3 columns."
      ]
    },
    {
      "cell_type": "code",
      "metadata": {
        "id": "fJlDBq5rLmA-",
        "colab_type": "code",
        "colab": {
          "base_uri": "https://localhost:8080/",
          "height": 50
        },
        "outputId": "14aff321-440b-4c93-8bd9-afaa1f409001"
      },
      "source": [
        "#Load Library\n",
        "import numpy as np\n",
        "\n",
        "#Create a Matrix\n",
        "matrix = np.array([[1,2,3],[4,5,6]])\n",
        "print(matrix)"
      ],
      "execution_count": 7,
      "outputs": [
        {
          "output_type": "stream",
          "text": [
            "[[1 2 3]\n",
            " [4 5 6]]\n"
          ],
          "name": "stdout"
        }
      ]
    },
    {
      "cell_type": "code",
      "metadata": {
        "id": "FvxevQeBBMPC",
        "colab_type": "code",
        "colab": {
          "base_uri": "https://localhost:8080/",
          "height": 84
        },
        "outputId": "8c1ffd42-edc6-44f9-8719-f5f754bdb3e7"
      },
      "source": [
        "display(vector_row[0]) # 0 is the index of the first value \n",
        "display(vector_row[-1]) # -1 is the index of the last value\n",
        "display(vector_row[:2]) # take the first two values from vector_row\n",
        "display(vector_row[2:]) #take the values from the third till the end"
      ],
      "execution_count": 15,
      "outputs": [
        {
          "output_type": "display_data",
          "data": {
            "text/plain": [
              "1"
            ]
          },
          "metadata": {
            "tags": []
          }
        },
        {
          "output_type": "display_data",
          "data": {
            "text/plain": [
              "6"
            ]
          },
          "metadata": {
            "tags": []
          }
        },
        {
          "output_type": "display_data",
          "data": {
            "text/plain": [
              "array([1, 2])"
            ]
          },
          "metadata": {
            "tags": []
          }
        },
        {
          "output_type": "display_data",
          "data": {
            "text/plain": [
              "array([3, 4, 5, 6])"
            ]
          },
          "metadata": {
            "tags": []
          }
        }
      ]
    },
    {
      "cell_type": "markdown",
      "metadata": {
        "id": "wv99hZqULygH",
        "colab_type": "text"
      },
      "source": [
        "3. Selecting Elements\n"
      ]
    },
    {
      "cell_type": "code",
      "metadata": {
        "id": "ZLQlxFzkPrKM",
        "colab_type": "code",
        "colab": {
          "base_uri": "https://localhost:8080/",
          "height": 252
        },
        "outputId": "2efe4a05-e33f-4bcc-a9f7-fbd8c455c88e"
      },
      "source": [
        "#Load Library\n",
        "import numpy as np\n",
        "\n",
        "#Create a vector as a Row\n",
        "vector_row = np.array([ 1,2,3,4,5,6 ])\n",
        "\n",
        "#Create a Matrix\n",
        "matrix = np.array([[1,2,3],[4,5,6],[7,8,9]])\n",
        "print(matrix)\n",
        "\n",
        "#Select 3rd element of Vector\n",
        "print(\"3d element of vector row is:\"+str(vector_row[2]))\n",
        "#Select 2nd row 2nd column\n",
        "print(matrix[1,1])\n",
        "#Select all elements of a vector\n",
        "print(vector_row[:])\n",
        "#Select everything up to and including the 3rd element\n",
        "print(vector_row[:3])\n",
        "#Select the everything after the 3rd element\n",
        "print(vector_row[3:])\n",
        "#Select the last element\n",
        "print(vector_row[-1])\n",
        "#Select the first 2 rows and all the columns of the matrix\n",
        "print(matrix[:2,:])\n",
        "#Select all rows and the 2nd column of the matrix\n",
        "print(matrix[:,1:2])\n"
      ],
      "execution_count": 12,
      "outputs": [
        {
          "output_type": "stream",
          "text": [
            "[[1 2 3]\n",
            " [4 5 6]\n",
            " [7 8 9]]\n",
            "3d element of vector row is:3\n",
            "5\n",
            "[1 2 3 4 5 6]\n",
            "[1 2 3]\n",
            "[4 5 6]\n",
            "6\n",
            "[[1 2 3]\n",
            " [4 5 6]]\n",
            "[[2]\n",
            " [5]\n",
            " [8]]\n"
          ],
          "name": "stdout"
        }
      ]
    },
    {
      "cell_type": "markdown",
      "metadata": {
        "id": "QO3vTGEKQhm7",
        "colab_type": "text"
      },
      "source": [
        "4. Describing a Matrix"
      ]
    },
    {
      "cell_type": "code",
      "metadata": {
        "id": "q8bDjBhhQpg5",
        "colab_type": "code",
        "colab": {}
      },
      "source": [
        "import numpy as np\n",
        "\n",
        "\n",
        "#Create a Matrix\n",
        "matrix = np.array([[1,2,3],[4,5,6],[7,8,9]])\n",
        "#View the Number of Rows and Columns\n",
        "print(matrix.shape)\n",
        "#View the number of elements (rows*columns)\n",
        "print(matrix.size)\n",
        "#View the number of Dimensions(2 in this case)\n",
        "print(matrix.ndim)"
      ],
      "execution_count": null,
      "outputs": []
    },
    {
      "cell_type": "markdown",
      "metadata": {
        "id": "eKISvY8kQtA0",
        "colab_type": "text"
      },
      "source": [
        "5. Finding the max and min values"
      ]
    },
    {
      "cell_type": "code",
      "metadata": {
        "id": "abPJd0JrQ4mM",
        "colab_type": "code",
        "colab": {
          "base_uri": "https://localhost:8080/",
          "height": 134
        },
        "outputId": "aa568501-6261-40a5-fbac-fe351e8a7ef3"
      },
      "source": [
        "#Load Library\n",
        "import numpy as np\n",
        "\n",
        "#Create a Matrix\n",
        "matrix = np.array([[1,2,3],[4,5,6],[7,8,9]])\n",
        "print(matrix)\n",
        "#Return the max element\n",
        "print(np.max(matrix))\n",
        "#Return the min element\n",
        "print(np.min(matrix))\n",
        "#To find the max element in each column\n",
        "print(np.max(matrix,axis=0))\n",
        "#To find the max element in each row\n",
        "print(np.max(matrix,axis=1))"
      ],
      "execution_count": 16,
      "outputs": [
        {
          "output_type": "stream",
          "text": [
            "[[1 2 3]\n",
            " [4 5 6]\n",
            " [7 8 9]]\n",
            "9\n",
            "1\n",
            "[7 8 9]\n",
            "[3 6 9]\n"
          ],
          "name": "stdout"
        }
      ]
    },
    {
      "cell_type": "markdown",
      "metadata": {
        "id": "3Qm64s_eR0zQ",
        "colab_type": "text"
      },
      "source": [
        "6. Reshaping Arrays\n"
      ]
    },
    {
      "cell_type": "code",
      "metadata": {
        "id": "Pwepq7h_SBBD",
        "colab_type": "code",
        "colab": {
          "base_uri": "https://localhost:8080/",
          "height": 336
        },
        "outputId": "791ef7ce-17f7-4021-e6ef-5db81413bd26"
      },
      "source": [
        "#Load Library\n",
        "import numpy as np\n",
        "\n",
        "#Create a Matrix\n",
        "matrix = np.array([[1,2,3],[4,5,6],[7,8,9]])\n",
        "print(matrix)\n",
        "#Reshape\n",
        "print(matrix.reshape(9,1))\n",
        "#Reshaping to (1,9) is also possible\n",
        "#the final size needs to be equal before and after shaping the matrix\n",
        "print(matrix.reshape(1,9))\n",
        "print(matrix.reshape(3,-1))\n",
        "\n",
        "#Here -1 says as many columns as needed and 1 row\n",
        "print(matrix.reshape(1,-1))\n",
        "#If we provide only 1 value Reshape would return a 1-d array of that length\n",
        "print(matrix.reshape(9))\n",
        "#We can also use the Flatten method to convert a matrix to 1-d array\n",
        "print(matrix.flatten())"
      ],
      "execution_count": 22,
      "outputs": [
        {
          "output_type": "stream",
          "text": [
            "[[1 2 3]\n",
            " [4 5 6]\n",
            " [7 8 9]]\n",
            "[[1]\n",
            " [2]\n",
            " [3]\n",
            " [4]\n",
            " [5]\n",
            " [6]\n",
            " [7]\n",
            " [8]\n",
            " [9]]\n",
            "[[1 2 3 4 5 6 7 8 9]]\n",
            "[[1 2 3]\n",
            " [4 5 6]\n",
            " [7 8 9]]\n",
            "[[1 2 3 4 5 6 7 8 9]]\n",
            "[1 2 3 4 5 6 7 8 9]\n",
            "[1 2 3 4 5 6 7 8 9]\n"
          ],
          "name": "stdout"
        }
      ]
    },
    {
      "cell_type": "markdown",
      "metadata": {
        "id": "cJU3xABuVem_",
        "colab_type": "text"
      },
      "source": [
        "7. Calculating Dot Products"
      ]
    },
    {
      "cell_type": "code",
      "metadata": {
        "id": "cPKg382VVivy",
        "colab_type": "code",
        "colab": {
          "base_uri": "https://localhost:8080/",
          "height": 50
        },
        "outputId": "c99735c2-004c-405f-cff8-a003df0cc2ef"
      },
      "source": [
        "#Load Library\n",
        "import numpy as np\n",
        "\n",
        "#Create vector-1\n",
        "vector_1 = np.array([ 1,2,3 ])\n",
        "#Create vector-2\n",
        "vector_2 = np.array([ 4,5,6 ])\n",
        "#Calculate Dot Product\n",
        "print(np.dot(vector_1,vector_2))\n",
        "#4+10+18 =32\n",
        "#Alternatively you can use @ to calculate dot products\n",
        "print(vector_1 @ vector_2)"
      ],
      "execution_count": 24,
      "outputs": [
        {
          "output_type": "stream",
          "text": [
            "32\n",
            "32\n"
          ],
          "name": "stdout"
        }
      ]
    },
    {
      "cell_type": "markdown",
      "metadata": {
        "id": "cB-jK7jEXY7F",
        "colab_type": "text"
      },
      "source": [
        "##Linear regression in Numpy:\n",
        "\n",
        "---\n",
        "\n",
        "\n",
        "\n",
        "Write the numpy code for the following model:\n",
        "\n",
        "$Y=WX+B$\n",
        "\n",
        "where $X$ is 3x10 matrix:  10 samples and 3 features\n",
        "\n",
        "$Y$ is 4x10 matrix: 10 samples and 4 outputs\n",
        "\n",
        "$W$ is the weights matrix with the shape 4x3: connecting 3 inputs to 4 outputs\n",
        "\n",
        "$b$ is a vector with a size 4 ( one bias per output)\n"
      ]
    },
    {
      "cell_type": "code",
      "metadata": {
        "id": "_EtM5LVtWCpm",
        "colab_type": "code",
        "colab": {
          "base_uri": "https://localhost:8080/",
          "height": 286
        },
        "outputId": "0775547d-397b-48ce-db57-51c9f188ef6f"
      },
      "source": [
        "#Load Library\n",
        "import numpy as np\n",
        "\n",
        "# Generate a random X (we do not have a real data)\n",
        "\n",
        "X = np.random.rand(3,10)# 3 rows and 10 columns of random numbers\n",
        "display(X)\n",
        "display(X.shape)\n",
        "\n",
        "# Generate a random weights vector\n",
        "W = np.random.rand(4,3)\n",
        "# 4 is the dimension of the output and 3 represents the number of inputs.\n",
        "#Could be reverse, it depends on the way we model\n",
        "\n",
        "# Generate a random bias \n",
        "#number of bias = number of neurons\n",
        "b = np.random.rand(4,1)\n",
        "\n",
        "# Calculate Y\n",
        "Y= np.dot(W,X) + b\n",
        "display(Y)\n",
        "display(Y.shape)\n"
      ],
      "execution_count": 26,
      "outputs": [
        {
          "output_type": "display_data",
          "data": {
            "text/plain": [
              "array([[0.5840422 , 0.99427279, 0.02934036, 0.30711559, 0.51772824,\n",
              "        0.09849207, 0.01703363, 0.35055659, 0.45478349, 0.06834479],\n",
              "       [0.50502536, 0.27983585, 0.66075648, 0.95788112, 0.65382128,\n",
              "        0.41198729, 0.34603137, 0.41682609, 0.56477196, 0.22683765],\n",
              "       [0.15612819, 0.60196889, 0.307691  , 0.27534929, 0.31232238,\n",
              "        0.74094751, 0.29072798, 0.57872528, 0.97623745, 0.17513792]])"
            ]
          },
          "metadata": {
            "tags": []
          }
        },
        {
          "output_type": "display_data",
          "data": {
            "text/plain": [
              "(3, 10)"
            ]
          },
          "metadata": {
            "tags": []
          }
        },
        {
          "output_type": "display_data",
          "data": {
            "text/plain": [
              "array([[1.73412983, 2.11608642, 1.53851396, 2.02285161, 1.9203743 ,\n",
              "        1.6207945 , 1.2166439 , 1.72481921, 2.1931732 , 1.07187738],\n",
              "       [0.71477899, 0.75980593, 0.86104683, 1.18220524, 0.92706985,\n",
              "        0.82722965, 0.53757529, 0.79214153, 1.14198433, 0.37174635],\n",
              "       [1.29937964, 1.58074268, 1.52324573, 1.82905277, 1.59387417,\n",
              "        1.71758059, 1.19031071, 1.59817233, 2.15809179, 0.96364403],\n",
              "       [0.94177161, 0.82987654, 1.02112159, 1.23109711, 1.04223295,\n",
              "        0.87534922, 0.81165197, 0.88603805, 1.003323  , 0.73141671]])"
            ]
          },
          "metadata": {
            "tags": []
          }
        },
        {
          "output_type": "display_data",
          "data": {
            "text/plain": [
              "(4, 10)"
            ]
          },
          "metadata": {
            "tags": []
          }
        }
      ]
    },
    {
      "cell_type": "code",
      "metadata": {
        "id": "d4fpOrvhGG7E",
        "colab_type": "code",
        "colab": {
          "base_uri": "https://localhost:8080/",
          "height": 151
        },
        "outputId": "788cf598-c0d1-4126-e73f-7f844bba5350"
      },
      "source": [
        "X = np.array([[1,0,1],[1,0,0]]) # the input here is 2x3\n",
        "W = np.array([[2,4],[6,5],[3,5],[10,3]])#the weights are 4x2\n",
        "#the output Y should then be: 4x3\n",
        "Y= np.dot(W,X) + b\n",
        "print(\"the output Y of the dot product is: Y=\\n\"+str(Y))\n",
        "print(X.shape)\n",
        "print(W.shape)\n",
        "print(Y.shape)"
      ],
      "execution_count": 35,
      "outputs": [
        {
          "output_type": "stream",
          "text": [
            "the output Y of the dot product is: Y=\n",
            "[[ 6.6928397   0.6928397   2.6928397 ]\n",
            " [11.05323549  0.05323549  6.05323549]\n",
            " [ 8.55223348  0.55223348  3.55223348]\n",
            " [13.57161482  0.57161482 10.57161482]]\n",
            "(2, 3)\n",
            "(4, 2)\n",
            "(4, 3)\n"
          ],
          "name": "stdout"
        }
      ]
    },
    {
      "cell_type": "markdown",
      "metadata": {
        "id": "hMIoucH9hFfr",
        "colab_type": "text"
      },
      "source": [
        "## One neuron model in numpy:\n",
        "\n",
        "A single neuron has multiple inputs and one output, in addition to the linear regression model, we need to add non linearity through an activation function:\n",
        "\n",
        "$Y= f(WX+B)$\n",
        "\n",
        "where $X$ is n x m matrix:  m samples and n features/inputs\n",
        "\n",
        "$f(g)= \\frac{1}{1+\\exp(-g)}$  is a sigmoid acitavation function\n",
        "\n",
        "$Y$ is nh1 x m matrix: m samples and ny outputs\n",
        "\n",
        "$W$ is the weights matrix with the shape nh1 x n: connecting 3 inputs to 4 outputs\n",
        "\n",
        "$b$ is a vector with a size nh1 ( one bias per output)\n",
        "\n",
        "\n",
        "\n"
      ]
    },
    {
      "cell_type": "code",
      "metadata": {
        "id": "Qry1JDGEiLmx",
        "colab_type": "code",
        "colab": {
          "base_uri": "https://localhost:8080/",
          "height": 50
        },
        "outputId": "750603d5-e793-4ba4-e595-4696e8ff52ee"
      },
      "source": [
        "# load Library\n",
        "import numpy as np \n",
        "\n",
        "#this is how we define the activation function\n",
        "f = lambda x: 1.0/(1.0 + np.exp(-x)) \n",
        "# activation function (use sigmoid)\n",
        "\n",
        "# Generate a random X (we do not have a real data)\n",
        "X = np.random.rand(3,10)\n",
        "\n",
        "\n",
        "# Generate a random weights vector\n",
        "W = np.random.rand(1,3)\n",
        "\n",
        "\n",
        "# Generate a random bias \n",
        "b = np.random.rand()\n",
        "\n",
        "# Calculate Y\n",
        "Y= f(np.dot(W,X) + b)\n",
        "display(Y)\n",
        "#each element value represents with how much the neuron is activated"
      ],
      "execution_count": 36,
      "outputs": [
        {
          "output_type": "display_data",
          "data": {
            "text/plain": [
              "array([[0.78775749, 0.71431091, 0.72433555, 0.62595953, 0.69248928,\n",
              "        0.76062288, 0.71023648, 0.73092367, 0.64587678, 0.75540469]])"
            ]
          },
          "metadata": {
            "tags": []
          }
        }
      ]
    },
    {
      "cell_type": "markdown",
      "metadata": {
        "id": "aSnbti9ooIIs",
        "colab_type": "text"
      },
      "source": [
        "## One hidden layer model in numpy:\n",
        "\n",
        "The difference from the one neuron model is simple:  we need only to change the number of output \"ny\""
      ]
    },
    {
      "cell_type": "code",
      "metadata": {
        "id": "ZAY3o6zBnpA0",
        "colab_type": "code",
        "colab": {
          "base_uri": "https://localhost:8080/",
          "height": 50
        },
        "outputId": "cf045ee1-1a07-4347-d7ac-db7e979245bd"
      },
      "source": [
        "# load Library\n",
        "import numpy as np \n",
        "\n",
        "#Suppose we have the following NN architecture\n",
        "\n",
        "m = 10 # Number of samples\n",
        "ni= 3 # Number of input neurons\n",
        "h = 1 # Number of hidden layers\n",
        "nh1 = 4 # Number of neurons in the hidden layer 1\n",
        "no =1 # Number of neurons in the output layer\n",
        "\n",
        "\n",
        "\n",
        "f = lambda x: 1.0/(1.0 + np.exp(-x)) # activation function (use sigmoid)\n",
        "\n",
        "# Generate a random X (we do not have a real data)\n",
        "X = np.random.rand(ni,m)\n",
        "\n",
        "\n",
        "# Generate a random weights vector for the first hidden layer\n",
        "W1 = np.random.rand(nh1,ni)\n",
        "\n",
        "\n",
        "# Generate a random bias for the first hidden layer \n",
        "b1 = np.random.rand(nh1,1)\n",
        "\n",
        "# Generate a random weights vector for the output layer\n",
        "W2 = np.random.rand(no,nh1)\n",
        "\n",
        "# Generate a random bias for the output layer \n",
        "b2 = np.random.rand(no,1)\n",
        "\n",
        "# Calculate output of the first hidden layer\n",
        "Yh1= f(np.dot(W1,X) + b1)\n",
        "\n",
        "# Calculate output of the output layer\n",
        "\n",
        "Y= f(np.dot(W2,Yh1) + b2)\n",
        "\n",
        "display(Yh1.shape)\n",
        "display(Y.shape)"
      ],
      "execution_count": 39,
      "outputs": [
        {
          "output_type": "display_data",
          "data": {
            "text/plain": [
              "(4, 10)"
            ]
          },
          "metadata": {
            "tags": []
          }
        },
        {
          "output_type": "display_data",
          "data": {
            "text/plain": [
              "(1, 10)"
            ]
          },
          "metadata": {
            "tags": []
          }
        }
      ]
    },
    {
      "cell_type": "code",
      "metadata": {
        "id": "7ybBiqY8I8NA",
        "colab_type": "code",
        "colab": {
          "base_uri": "https://localhost:8080/",
          "height": 84
        },
        "outputId": "cac779cd-bcfa-4566-f924-0b9994d816da"
      },
      "source": [
        "# 2 hidden layers\n",
        "# load Library\n",
        "import numpy as np \n",
        "\n",
        "#Suppose we have the following NN architecture\n",
        "\n",
        "m = 10 # Number of samples\n",
        "ni= 3 # Number of input neurons\n",
        "h = 2 # Number of hidden layers\n",
        "nh1 = 4 # Number of neurons in the hidden layer 1\n",
        "nh2 = 5 # Number of neurons in the second hidden layer\n",
        "no =1 # Number of neurons in the output layer\n",
        "# activation function (use sigmoid)\n",
        "f = lambda x: 1.0/(1.0 + np.exp(-x)) \n",
        "\n",
        "# Generate a random X (we do not have a real data)\n",
        "X = np.random.rand(ni,m)\n",
        "\n",
        "##################################################################\n",
        "# Generate a random weights vector for the first hidden layer\n",
        "W1 = np.random.rand(nh1,ni)\n",
        "# Generate a random bias for the first hidden layer \n",
        "b1 = np.random.rand(nh1,1)\n",
        "# Calculate output of the first hidden layer\n",
        "Yh1= f(np.dot(W1,X) + b1)\n",
        "\n",
        "##################################################################\n",
        "# Generate a random weights vector for second hidden layer\n",
        "W2 = np.random.rand(nh2,nh1)\n",
        "# Generate a random bias for second hidden layer\n",
        "b2 = np.random.rand(nh2,1)\n",
        "# Calculate output of the first hidden layer\n",
        "Yh2= f(np.dot(W2,Yh1) + b2)\n",
        "print(\"debugging\")\n",
        "##################################################################\n",
        "# Generate a random weights vector for the output layer\n",
        "W3 = np.random.rand(no,nh2)\n",
        "# Generate a random bias for the output layer \n",
        "b3 = np.random.rand(no,1)\n",
        "# Calculate output of the output layer\n",
        "Y= f(np.dot(W3,Yh2) + b3)\n",
        "\n",
        "display(Yh1.shape)\n",
        "display(Yh2.shape)\n",
        "display(Y.shape)"
      ],
      "execution_count": 45,
      "outputs": [
        {
          "output_type": "stream",
          "text": [
            "heyyyyyyyyyyyyyy\n"
          ],
          "name": "stdout"
        },
        {
          "output_type": "display_data",
          "data": {
            "text/plain": [
              "(4, 10)"
            ]
          },
          "metadata": {
            "tags": []
          }
        },
        {
          "output_type": "display_data",
          "data": {
            "text/plain": [
              "(5, 10)"
            ]
          },
          "metadata": {
            "tags": []
          }
        },
        {
          "output_type": "display_data",
          "data": {
            "text/plain": [
              "(1, 10)"
            ]
          },
          "metadata": {
            "tags": []
          }
        }
      ]
    },
    {
      "cell_type": "code",
      "metadata": {
        "id": "m_j1EVSEMHiY",
        "colab_type": "code",
        "colab": {
          "base_uri": "https://localhost:8080/",
          "height": 118
        },
        "outputId": "43240ebf-f737-455e-a54f-60785d0eaf49"
      },
      "source": [
        "# 3 hidden layers\n",
        "# load Library\n",
        "import numpy as np \n",
        "\n",
        "#Suppose we have the following NN architecture\n",
        "\n",
        "m = 10 # Number of samples\n",
        "ni= 3 # Number of input neurons\n",
        "h = 2 # Number of hidden layers\n",
        "nh1 = 4 # Number of neurons in the hidden layer 1\n",
        "nh2 = 5 # Number of neurons in the second hidden layer\n",
        "nh3 = 7 #number of neurons in the 3d hidden layer\n",
        "no =1 # Number of neurons in the output layer\n",
        "# activation function (use sigmoid)\n",
        "f = lambda x: 1.0/(1.0 + np.exp(-x)) \n",
        "\n",
        "# Generate a random X (we do not have a real data)\n",
        "X = np.random.rand(ni,m)\n",
        "\n",
        "##################################################################\n",
        "# Generate a random weights vector for the first hidden layer\n",
        "W1 = np.random.rand(nh1,ni)\n",
        "# Generate a random bias for the first hidden layer \n",
        "b1 = np.random.rand(nh1,1)\n",
        "# Calculate output of the first hidden layer\n",
        "Yh1= f(np.dot(W1,X) + b1)\n",
        "\n",
        "##################################################################\n",
        "# Generate a random weights vector for second hidden layer\n",
        "W2 = np.random.rand(nh2,nh1)\n",
        "# Generate a random bias for second hidden layer\n",
        "b2 = np.random.rand(nh2,1)\n",
        "# Calculate output of the first hidden layer\n",
        "Yh2= f(np.dot(W2,Yh1) + b2)\n",
        "print(\"debugging\")\n",
        "##################################################################\n",
        "\n",
        "##################################################################\n",
        "# Generate a random weights vector for second hidden layer\n",
        "W3 = np.random.rand(nh3,nh2)\n",
        "# Generate a random bias for second hidden layer\n",
        "b3 = np.random.rand(nh3,1)\n",
        "# Calculate output of the first hidden layer\n",
        "Yh3= f(np.dot(W3,Yh2) + b3)\n",
        "print(\"debugging\")\n",
        "##################################################################\n",
        "# Generate a random weights vector for the output layer\n",
        "W4 = np.random.rand(no,nh3)\n",
        "# Generate a random bias for the output layer \n",
        "b4 = np.random.rand(no,1)\n",
        "# Calculate output of the output layer\n",
        "Y= f(np.dot(W4,Yh3) + b4)\n",
        "\n",
        "display(Yh1.shape)\n",
        "display(Yh2.shape)\n",
        "display(Yh3.shape)\n",
        "display(Y.shape)"
      ],
      "execution_count": 46,
      "outputs": [
        {
          "output_type": "stream",
          "text": [
            "debugging\n",
            "debugging\n"
          ],
          "name": "stdout"
        },
        {
          "output_type": "display_data",
          "data": {
            "text/plain": [
              "(4, 10)"
            ]
          },
          "metadata": {
            "tags": []
          }
        },
        {
          "output_type": "display_data",
          "data": {
            "text/plain": [
              "(5, 10)"
            ]
          },
          "metadata": {
            "tags": []
          }
        },
        {
          "output_type": "display_data",
          "data": {
            "text/plain": [
              "(7, 10)"
            ]
          },
          "metadata": {
            "tags": []
          }
        },
        {
          "output_type": "display_data",
          "data": {
            "text/plain": [
              "(1, 10)"
            ]
          },
          "metadata": {
            "tags": []
          }
        }
      ]
    },
    {
      "cell_type": "markdown",
      "metadata": {
        "id": "11fqb_bQvIEi",
        "colab_type": "text"
      },
      "source": [
        "## Gradient descent in Numpy:\n",
        "Let us now start training a neural network\n",
        "We start by implementing a simple gradient descent for linear regression"
      ]
    },
    {
      "cell_type": "code",
      "metadata": {
        "id": "mzBJxwb7FFZ2",
        "colab_type": "code",
        "colab": {
          "base_uri": "https://localhost:8080/",
          "height": 190
        },
        "outputId": "b0d72841-b565-4582-d8d0-f30b69b553b4"
      },
      "source": [
        "import numpy as np\n",
        "W1 = np.random.rand(10,2)\n",
        "W1"
      ],
      "execution_count": null,
      "outputs": [
        {
          "output_type": "execute_result",
          "data": {
            "text/plain": [
              "array([[0.51448509, 0.18163591],\n",
              "       [0.59599079, 0.50199117],\n",
              "       [0.10763886, 0.82440073],\n",
              "       [0.71248353, 0.75820124],\n",
              "       [0.16277352, 0.25229085],\n",
              "       [0.27725862, 0.93018921],\n",
              "       [0.3939125 , 0.89440869],\n",
              "       [0.34771914, 0.55332989],\n",
              "       [0.57875705, 0.50764801],\n",
              "       [0.68848694, 0.60201835]])"
            ]
          },
          "metadata": {
            "tags": []
          },
          "execution_count": 6
        }
      ]
    },
    {
      "cell_type": "code",
      "metadata": {
        "id": "QaQyLoxk2FyG",
        "colab_type": "code",
        "colab": {
          "base_uri": "https://localhost:8080/",
          "height": 101
        },
        "outputId": "515efe14-2880-4177-b7a6-daae65b37693"
      },
      "source": [
        "import numpy as np\n",
        "converged = False\n",
        "iter = 0\n",
        "m = 10 # Number of samples\n",
        "ni= 1 # Number of input neurons\n",
        "h = 1 # Number of hidden layers\n",
        "no =1 # Number of neurons in the output layer\n",
        "\n",
        "# Generate a random X (we do not have a real data)\n",
        "X = np.random.rand(m)\n",
        "display(X)\n",
        "\n",
        "# learning rate\n",
        "# learning rate represents the steps to go to the minimum\n",
        "#high learning rate: big steps\n",
        "#low learning rate: baby steps towards the minimum\n",
        "alpha =0.01\n",
        "\n",
        "# early stop criteria \n",
        "#to prevent the model from overfitting\n",
        "#if the error change is less than ep\n",
        "ep=0.001\n",
        "\n",
        "# maximum number of training iterations\n",
        "#so we update the weights 100 times\n",
        "max_iter=100\n",
        "# w_t+1 = w_t - lr*dJ/dw\n",
        "\n",
        "# Generate a random weights vector for the output layer\n",
        "W1 = np.random.rand()\n",
        "\n",
        "# Generate a random bias for the output layer \n",
        "b1 = np.random.rand()\n",
        "\n",
        "# Generate a random ground truth\n",
        "Y_gr = np.random.rand(m)\n",
        "\n",
        "# Y_gr = WX + b\n",
        "\n",
        "# J(W,b) = sum(((WX+b) - Y_gr)^2)\n",
        "#Sum of squared error\n",
        "J = sum([(b1 + W1*X[i] - Y_gr[i])**2 for i in range(m)])\n",
        "print('J1', J)\n",
        "J = 0\n",
        "#Another way to do the function is:\n",
        "for i in range(m):\n",
        "  J+= (b1+ W1*X[i] - Y_gr[i])**2\n",
        "print('J2', J)\n",
        "#convergence means when we meet our goal\n",
        "while not converged:\n",
        "        # for each training sample, compute the gradient (d/d_theta j(theta))\n",
        "        grad0 = 1.0/m * sum([(b1 + W1*X[i] - Y_gr[i]) for i in range(m)]) \n",
        "        grad1 = 1.0/m * sum([(b1 + W1*X[i] - Y_gr[i])*X[i] for i in range(m)])\n",
        "        \n",
        "        # update the theta_temp\n",
        "        temp0 = W1 - alpha * grad0\n",
        "        temp1 = b1 - alpha * grad1\n",
        "        # update theta\n",
        "        W1 = temp0\n",
        "        b1 = temp1\n",
        "        \n",
        "        # sum squared error\n",
        "        e = sum([(b1 + W1*X[i] - Y_gr[i])**2 for i in range(m)]) \n",
        "        #print(e)\n",
        "        if abs(J-e) <= ep:\n",
        "            print('Converged, iterations: ', iter, '!!!')\n",
        "            converged = True\n",
        "    \n",
        "        J = e   # update error \n",
        "        iter += 1  # update iter\n",
        "    \n",
        "        if iter == max_iter:\n",
        "            print('Max interactions exceeded!')\n",
        "            converged = True"
      ],
      "execution_count": 49,
      "outputs": [
        {
          "output_type": "display_data",
          "data": {
            "text/plain": [
              "array([0.10564688, 0.15023793, 0.48104107, 0.87134807, 0.16119536,\n",
              "       0.55633108, 0.17324777, 0.97690501, 0.8732754 , 0.84601702])"
            ]
          },
          "metadata": {
            "tags": []
          }
        },
        {
          "output_type": "stream",
          "text": [
            "J1 1.7427830283272854\n",
            "J2 1.7427830283272854\n",
            "Max interactions exceeded!\n"
          ],
          "name": "stdout"
        }
      ]
    },
    {
      "cell_type": "markdown",
      "metadata": {
        "id": "jRqCCVlmFIZl",
        "colab_type": "text"
      },
      "source": [
        "##Assignment 1\n",
        "### Backpropagation in Numpy:\n"
      ]
    },
    {
      "cell_type": "code",
      "metadata": {
        "id": "7sW8ZoEVMb9I",
        "colab_type": "code",
        "colab": {
          "base_uri": "https://localhost:8080/",
          "height": 1000
        },
        "outputId": "2523755f-52a9-46c8-81dd-7c24d71ab6e7"
      },
      "source": [
        "\n",
        "num_inputs = 4\n",
        "hidden_layer_1_outputs = 4\n",
        "hidden_layer_2_outputs = 3\n",
        "\n",
        "num_samples = 10\n",
        "\n",
        "f = lambda x: 1.0/(1.0 + np.exp(-x)) # activation function (use sigmoid)\n",
        "\n",
        "\n",
        "X = np.random.rand(num_samples,num_inputs-1) # 10x3\n",
        "\n",
        "X = np.hstack((np.ones((X.shape[0], 1)), X)) # 10x4\n",
        "\n",
        "display(X.shape)\n",
        "\n",
        "# Generate a random weights vector for the first hidden layer\n",
        "W_h1 = np.random.rand(num_inputs,hidden_layer_1_outputs) # 4x4\n",
        "# O     O     O \n",
        "# O     O     O\n",
        "# O     O     O\n",
        "# O     O    \n",
        "\n",
        "\n",
        "# Generate a random weights vector for the second hidden layer\n",
        "W_h2 = np.random.rand(hidden_layer_1_outputs+1,hidden_layer_2_outputs)\n",
        "\n",
        "\n",
        "# Calculate output of hidden layer 1\n",
        "h1= f(np.dot(X,W_h1))\n",
        "display(h1.shape)\n",
        "\n",
        "# Calculate output of hidden layer 2\n",
        "#h2= f(np.dot(h1,W_h2))\n",
        "#display(h2.shape)\n",
        "\n",
        "\n",
        "# learning rate\n",
        "alpha =0.01\n",
        "\n",
        "# early stop criteria \n",
        "ep=0.001\n",
        "\n",
        "\n",
        "# maximum number of training iterations\n",
        "max_iter=100\n",
        "\n",
        "# Generate a random ground truth\n",
        "Y_gr = np.random.rand(hidden_layer_2_outputs,num_samples)\n",
        "\n",
        "#J = sum([(h2 - Y_gr[:,i])**2 for i in range(num_samples)]) #cost function sum of squared error\n",
        "print(J)\n",
        "\n",
        "#while not converged:\n",
        "for i in range(100):\n",
        "        #print('Interations:' , iter)\n",
        "    \n",
        "        # forward prop   \n",
        "        # Calculate output of hidden layer 1\n",
        "        h1= f(np.dot(X,W_h1))\n",
        "        \n",
        "        # append a column with ones representing bias inputs\n",
        "        h1 = np.hstack((np.ones((h1.shape[0], 1)), h1))\n",
        "        # Calculate output of hidden layer 2\n",
        "        h2= f(np.dot(h1,W_h2))\n",
        "        \n",
        "        \n",
        "        #error/error \n",
        "               \n",
        "        J = np.sum(np.square(h2- Y_gr.T))\n",
        "        \n",
        "        # gradient of the output layer\n",
        "        grad_h2 = h2*J\n",
        "    \n",
        "        \n",
        "        # error    \n",
        "        #display('h1', (h1[:, 1:] * (1 - h1[:, 1:])).shape)    \n",
        "        #display('dot ', np.dot(grad_h2, W_h2.T[:, 1:]).shape)\n",
        "\n",
        "\n",
        "        hidden_error = (h1[:, 1:] * (1 - h1[:, 1:])) * np.dot(grad_h2, W_h2.T[:, 1:]) \n",
        "\n",
        "        #print(h1.shape)\n",
        "        #print(hidden_error.shape)\n",
        "        #gradient of the hidden layer 1\n",
        "        #np.newaxis is used to increase the dimension of the existing array by one more dimension, when used once.\n",
        "        grad_h1= h1[:, :, np.newaxis]*hidden_error[:, np.newaxis, :]\n",
        "\n",
        "      \n",
        "        # average gradient\n",
        "        total_output_gradient_h2 = np.average(grad_h2, axis=0)\n",
        "        total_hidden_gradient_h1 = np.average(grad_h1, axis=0)\n",
        "        #print(grad_h1.shape)\n",
        "        #print(W_h1.shape)\n",
        "\n",
        "        # update weights\n",
        "        W_h2 += - alpha * total_output_gradient_h2\n",
        "        W_h1 += - alpha * total_hidden_gradient_h1[1:,:]\n",
        "        \n",
        "        \n",
        "        print('iter',i)\n",
        "        \n",
        "        print('cost',J)\n",
        "\n",
        "        \n",
        "        \n",
        "\n",
        "\n",
        "        \n",
        "        \n",
        "        \n",
        "        \n",
        "        \n",
        "              \n",
        "        \n"
      ],
      "execution_count": 50,
      "outputs": [
        {
          "output_type": "display_data",
          "data": {
            "text/plain": [
              "(10, 4)"
            ]
          },
          "metadata": {
            "tags": []
          }
        },
        {
          "output_type": "display_data",
          "data": {
            "text/plain": [
              "(10, 4)"
            ]
          },
          "metadata": {
            "tags": []
          }
        },
        {
          "output_type": "stream",
          "text": [
            "1.918736883374265\n",
            "iter 0\n",
            "cost 7.070918726763268\n",
            "iter 1\n",
            "cost 6.5979277199397535\n",
            "iter 2\n",
            "cost 6.105861342460266\n",
            "iter 3\n",
            "cost 5.617280009095367\n",
            "iter 4\n",
            "cost 5.150944889904443\n",
            "iter 5\n",
            "cost 4.719751674644593\n",
            "iter 6\n",
            "cost 4.330670627203531\n",
            "iter 7\n",
            "cost 3.9858906838070727\n",
            "iter 8\n",
            "cost 3.6843316483212365\n",
            "iter 9\n",
            "cost 3.4230069226395634\n",
            "iter 10\n",
            "cost 3.1980387228073073\n",
            "iter 11\n",
            "cost 3.005321266896414\n",
            "iter 12\n",
            "cost 2.8409062995358974\n",
            "iter 13\n",
            "cost 2.7011977771964872\n",
            "iter 14\n",
            "cost 2.5830275935796636\n",
            "iter 15\n",
            "cost 2.4836633188141235\n",
            "iter 16\n",
            "cost 2.4007808269548474\n",
            "iter 17\n",
            "cost 2.33242155905602\n",
            "iter 18\n",
            "cost 2.2769455306193387\n",
            "iter 19\n",
            "cost 2.2329858653668455\n",
            "iter 20\n",
            "cost 2.1994075174046577\n",
            "iter 21\n",
            "cost 2.1752711050986147\n",
            "iter 22\n",
            "cost 2.1598018673883916\n",
            "iter 23\n",
            "cost 2.15236331640683\n",
            "iter 24\n",
            "cost 2.152434986999241\n",
            "iter 25\n",
            "cost 2.1595936497263972\n",
            "iter 26\n",
            "cost 2.173497388462891\n",
            "iter 27\n",
            "cost 2.193872007851724\n",
            "iter 28\n",
            "cost 2.2204993091655285\n",
            "iter 29\n",
            "cost 2.253206845523345\n",
            "iter 30\n",
            "cost 2.29185883465231\n",
            "iter 31\n",
            "cost 2.3363479682527992\n",
            "iter 32\n",
            "cost 2.3865879118122293\n",
            "iter 33\n",
            "cost 2.442506338321708\n",
            "iter 34\n",
            "cost 2.5040383847966368\n",
            "iter 35\n",
            "cost 2.5711204626198803\n",
            "iter 36\n",
            "cost 2.6436843919936903\n",
            "iter 37\n",
            "cost 2.721651867235906\n",
            "iter 38\n",
            "cost 2.804929292833715\n",
            "iter 39\n",
            "cost 2.8934030591532713\n",
            "iter 40\n",
            "cost 2.986935350183229\n",
            "iter 41\n",
            "cost 3.085360592100111\n",
            "iter 42\n",
            "cost 3.1884826591708073\n",
            "iter 43\n",
            "cost 3.2960729511481364\n",
            "iter 44\n",
            "cost 3.4078694429577294\n",
            "iter 45\n",
            "cost 3.523576782975969\n",
            "iter 46\n",
            "cost 3.6428674814014204\n",
            "iter 47\n",
            "cost 3.7653841870622475\n",
            "iter 48\n",
            "cost 3.890743002467899\n",
            "iter 49\n",
            "cost 4.0185377368331086\n",
            "iter 50\n",
            "cost 4.148344949474088\n",
            "iter 51\n",
            "cost 4.279729595681593\n",
            "iter 52\n",
            "cost 4.412251057650041\n",
            "iter 53\n",
            "cost 4.545469326998856\n",
            "iter 54\n",
            "cost 4.678951104203723\n",
            "iter 55\n",
            "cost 4.81227559368066\n",
            "iter 56\n",
            "cost 4.9450397997002895\n",
            "iter 57\n",
            "cost 5.07686316493307\n",
            "iter 58\n",
            "cost 5.207391436649507\n",
            "iter 59\n",
            "cost 5.336299691545939\n",
            "iter 60\n",
            "cost 5.463294495140207\n",
            "iter 61\n",
            "cost 5.588115212548772\n",
            "iter 62\n",
            "cost 5.710534521898366\n",
            "iter 63\n",
            "cost 5.830358208244608\n",
            "iter 64\n",
            "cost 5.947424334168952\n",
            "iter 65\n",
            "cost 6.061601893477675\n",
            "iter 66\n",
            "cost 6.172789057490719\n",
            "iter 67\n",
            "cost 6.280911120517092\n",
            "iter 68\n",
            "cost 6.385918243675229\n",
            "iter 69\n",
            "cost 6.4877830856469725\n",
            "iter 70\n",
            "cost 6.586498396553019\n",
            "iter 71\n",
            "cost 6.682074638012025\n",
            "iter 72\n",
            "cost 6.774537679470569\n",
            "iter 73\n",
            "cost 6.863926608706209\n",
            "iter 74\n",
            "cost 6.950291683432642\n",
            "iter 75\n",
            "cost 7.033692441409804\n",
            "iter 76\n",
            "cost 7.114195978468981\n",
            "iter 77\n",
            "cost 7.191875397379576\n",
            "iter 78\n",
            "cost 7.266808425409858\n",
            "iter 79\n",
            "cost 7.339076194621658\n",
            "iter 80\n",
            "cost 7.408762176218799\n",
            "iter 81\n",
            "cost 7.475951258464407\n",
            "iter 82\n",
            "cost 7.540728956623736\n",
            "iter 83\n",
            "cost 7.603180742920279\n",
            "iter 84\n",
            "cost 7.663391484476207\n",
            "iter 85\n",
            "cost 7.72144497752509\n",
            "iter 86\n",
            "cost 7.777423566737422\n",
            "iter 87\n",
            "cost 7.831407839207686\n",
            "iter 88\n",
            "cost 7.883476383452303\n",
            "iter 89\n",
            "cost 7.933705604612262\n",
            "iter 90\n",
            "cost 7.982169587905862\n",
            "iter 91\n",
            "cost 8.028940003209339\n",
            "iter 92\n",
            "cost 8.07408604443796\n",
            "iter 93\n",
            "cost 8.117674398145455\n",
            "iter 94\n",
            "cost 8.159769236448367\n",
            "iter 95\n",
            "cost 8.200432230010916\n",
            "iter 96\n",
            "cost 8.239722577394662\n",
            "iter 97\n",
            "cost 8.277697047587008\n",
            "iter 98\n",
            "cost 8.314410032976365\n",
            "iter 99\n",
            "cost 8.349913610442847\n"
          ],
          "name": "stdout"
        }
      ]
    }
  ]
}