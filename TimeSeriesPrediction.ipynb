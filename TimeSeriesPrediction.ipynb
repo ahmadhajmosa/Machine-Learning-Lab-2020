{
  "nbformat": 4,
  "nbformat_minor": 0,
  "metadata": {
    "colab": {
      "name": "Untitled0.ipynb",
      "provenance": [],
      "authorship_tag": "ABX9TyO+fsxQO10WkEsVUxVaCXuQ",
      "include_colab_link": true
    },
    "kernelspec": {
      "name": "python3",
      "display_name": "Python 3"
    }
  },
  "cells": [
    {
      "cell_type": "markdown",
      "metadata": {
        "id": "view-in-github",
        "colab_type": "text"
      },
      "source": [
        "<a href=\"https://colab.research.google.com/github/ahmadhajmosa/Machine-Learning-Lab-2020/blob/emir/TimeSeriesPrediction.ipynb\" target=\"_parent\"><img src=\"https://colab.research.google.com/assets/colab-badge.svg\" alt=\"Open In Colab\"/></a>"
      ]
    },
    {
      "cell_type": "markdown",
      "metadata": {
        "id": "msGowQ6jEoHX",
        "colab_type": "text"
      },
      "source": [
        "# Download the dataset"
      ]
    },
    {
      "cell_type": "code",
      "metadata": {
        "id": "iAygRNi0CPd2",
        "colab_type": "code",
        "colab": {}
      },
      "source": [
        "import pandas as pd\n",
        "\n",
        "dataset = pd.read_csv(\"https://raw.githubusercontent.com/jbrownlee/Datasets/master/airline-passengers.csv\",usecols=[1])"
      ],
      "execution_count": 17,
      "outputs": []
    },
    {
      "cell_type": "code",
      "metadata": {
        "id": "m1-GebyZErsa",
        "colab_type": "code",
        "colab": {
          "base_uri": "https://localhost:8080/",
          "height": 51
        },
        "outputId": "c1713c3e-b975-4807-c204-55270c2536f5"
      },
      "source": [
        "# dataset.Passengers\n",
        "# dataset.describe()\n",
        "# dataset.iloc[:2,:]\n",
        "display(dataset.Passengers.nunique())\n",
        "display(len(dataset))"
      ],
      "execution_count": 11,
      "outputs": [
        {
          "output_type": "display_data",
          "data": {
            "text/plain": [
              "118"
            ]
          },
          "metadata": {
            "tags": []
          }
        },
        {
          "output_type": "display_data",
          "data": {
            "text/plain": [
              "144"
            ]
          },
          "metadata": {
            "tags": []
          }
        }
      ]
    },
    {
      "cell_type": "markdown",
      "metadata": {
        "id": "qQdRb5BjEuGG",
        "colab_type": "text"
      },
      "source": [
        "# Plot the time series"
      ]
    },
    {
      "cell_type": "code",
      "metadata": {
        "id": "IW-j8U6kFYZS",
        "colab_type": "code",
        "colab": {
          "base_uri": "https://localhost:8080/",
          "height": 265
        },
        "outputId": "9320de05-7707-4ae3-e679-8db12e00a5be"
      },
      "source": [
        "import pandas\n",
        "import matplotlib.pyplot as plt\n",
        "plt.plot(dataset)\n",
        "plt.show()"
      ],
      "execution_count": 2,
      "outputs": [
        {
          "output_type": "display_data",
          "data": {
            "image/png": "[encoded data removed]",
            "text/plain": [
              "<Figure size 432x288 with 1 Axes>"
            ]
          },
          "metadata": {
            "tags": [],
            "needs_background": "light"
          }
        }
      ]
    },
    {
      "cell_type": "code",
      "metadata": {
        "id": "CGX3huIhFehF",
        "colab_type": "code",
        "colab": {
          "base_uri": "https://localhost:8080/",
          "height": 51
        },
        "outputId": "c18089dc-c8fa-4360-8f86-ca46073679ea"
      },
      "source": [
        "%tensorflow_version 1.x\n",
        "import math\n",
        "from keras.models import Sequential\n",
        "from keras.layers import Dense\n",
        "from keras.layers import LSTM\n",
        "from sklearn.preprocessing import MinMaxScaler\n",
        "from sklearn.metrics import mean_squared_error"
      ],
      "execution_count": 3,
      "outputs": [
        {
          "output_type": "stream",
          "text": [
            "TensorFlow 1.x selected.\n"
          ],
          "name": "stdout"
        },
        {
          "output_type": "stream",
          "text": [
            "Using TensorFlow backend.\n"
          ],
          "name": "stderr"
        }
      ]
    },
    {
      "cell_type": "code",
      "metadata": {
        "id": "LpuAfNW6Fuii",
        "colab_type": "code",
        "colab": {}
      },
      "source": [
        "import numpy\n",
        "# fix random seed for reproducibility\n",
        "numpy.random.seed()"
      ],
      "execution_count": 4,
      "outputs": []
    },
    {
      "cell_type": "code",
      "metadata": {
        "id": "vx79htjqF8Vq",
        "colab_type": "code",
        "colab": {
          "base_uri": "https://localhost:8080/",
          "height": 1000
        },
        "outputId": "eaa78ebb-eb58-4433-aa44-5fd7255e2350"
      },
      "source": [
        "dataset = dataset.values\n",
        "dataset = dataset.astype('float32')\n",
        "dataset"
      ],
      "execution_count": 18,
      "outputs": [
        {
          "output_type": "execute_result",
          "data": {
            "text/plain": [
              "array([[112.],\n",
              "       [118.],\n",
              "       [132.],\n",
              "       [129.],\n",
              "       [121.],\n",
              "       [135.],\n",
              "       [148.],\n",
              "       [148.],\n",
              "       [136.],\n",
              "       [119.],\n",
              "       [104.],\n",
              "       [118.],\n",
              "       [115.],\n",
              "       [126.],\n",
              "       [141.],\n",
              "       [135.],\n",
              "       [125.],\n",
              "       [149.],\n",
              "       [170.],\n",
              "       [170.],\n",
              "       [158.],\n",
              "       [133.],\n",
              "       [114.],\n",
              "       [140.],\n",
              "       [145.],\n",
              "       [150.],\n",
              "       [178.],\n",
              "       [163.],\n",
              "       [172.],\n",
              "       [178.],\n",
              "       [199.],\n",
              "       [199.],\n",
              "       [184.],\n",
              "       [162.],\n",
              "       [146.],\n",
              "       [166.],\n",
              "       [171.],\n",
              "       [180.],\n",
              "       [193.],\n",
              "       [181.],\n",
              "       [183.],\n",
              "       [218.],\n",
              "       [230.],\n",
              "       [242.],\n",
              "       [209.],\n",
              "       [191.],\n",
              "       [172.],\n",
              "       [194.],\n",
              "       [196.],\n",
              "       [196.],\n",
              "       [236.],\n",
              "       [235.],\n",
              "       [229.],\n",
              "       [243.],\n",
              "       [264.],\n",
              "       [272.],\n",
              "       [237.],\n",
              "       [211.],\n",
              "       [180.],\n",
              "       [201.],\n",
              "       [204.],\n",
              "       [188.],\n",
              "       [235.],\n",
              "       [227.],\n",
              "       [234.],\n",
              "       [264.],\n",
              "       [302.],\n",
              "       [293.],\n",
              "       [259.],\n",
              "       [229.],\n",
              "       [203.],\n",
              "       [229.],\n",
              "       [242.],\n",
              "       [233.],\n",
              "       [267.],\n",
              "       [269.],\n",
              "       [270.],\n",
              "       [315.],\n",
              "       [364.],\n",
              "       [347.],\n",
              "       [312.],\n",
              "       [274.],\n",
              "       [237.],\n",
              "       [278.],\n",
              "       [284.],\n",
              "       [277.],\n",
              "       [317.],\n",
              "       [313.],\n",
              "       [318.],\n",
              "       [374.],\n",
              "       [413.],\n",
              "       [405.],\n",
              "       [355.],\n",
              "       [306.],\n",
              "       [271.],\n",
              "       [306.],\n",
              "       [315.],\n",
              "       [301.],\n",
              "       [356.],\n",
              "       [348.],\n",
              "       [355.],\n",
              "       [422.],\n",
              "       [465.],\n",
              "       [467.],\n",
              "       [404.],\n",
              "       [347.],\n",
              "       [305.],\n",
              "       [336.],\n",
              "       [340.],\n",
              "       [318.],\n",
              "       [362.],\n",
              "       [348.],\n",
              "       [363.],\n",
              "       [435.],\n",
              "       [491.],\n",
              "       [505.],\n",
              "       [404.],\n",
              "       [359.],\n",
              "       [310.],\n",
              "       [337.],\n",
              "       [360.],\n",
              "       [342.],\n",
              "       [406.],\n",
              "       [396.],\n",
              "       [420.],\n",
              "       [472.],\n",
              "       [548.],\n",
              "       [559.],\n",
              "       [463.],\n",
              "       [407.],\n",
              "       [362.],\n",
              "       [405.],\n",
              "       [417.],\n",
              "       [391.],\n",
              "       [419.],\n",
              "       [461.],\n",
              "       [472.],\n",
              "       [535.],\n",
              "       [622.],\n",
              "       [606.],\n",
              "       [508.],\n",
              "       [461.],\n",
              "       [390.],\n",
              "       [432.]], dtype=float32)"
            ]
          },
          "metadata": {
            "tags": []
          },
          "execution_count": 18
        }
      ]
    },
    {
      "cell_type": "code",
      "metadata": {
        "id": "sLzlWNKqGC9C",
        "colab_type": "code",
        "colab": {}
      },
      "source": [
        "# normalize dataset\n",
        "scaler = MinMaxScaler(feature_range=(0,1))\n",
        "dataset = scaler.fit_transform(dataset)\n",
        "# dataset_s = scaler.fit_transform(dataset)"
      ],
      "execution_count": 6,
      "outputs": []
    },
    {
      "cell_type": "code",
      "metadata": {
        "id": "nmBsR-8RG1yU",
        "colab_type": "code",
        "colab": {
          "base_uri": "https://localhost:8080/",
          "height": 34
        },
        "outputId": "1992307a-6c3f-4166-9ea3-48b782e76a37"
      },
      "source": [
        "dataset.min()\n",
        "#dataset_s.min()"
      ],
      "execution_count": 7,
      "outputs": [
        {
          "output_type": "execute_result",
          "data": {
            "text/plain": [
              "0.0"
            ]
          },
          "metadata": {
            "tags": []
          },
          "execution_count": 7
        }
      ]
    },
    {
      "cell_type": "code",
      "metadata": {
        "id": "dATC8KGTHUq1",
        "colab_type": "code",
        "colab": {
          "base_uri": "https://localhost:8080/",
          "height": 34
        },
        "outputId": "da7ffb63-1e30-454b-8519-ddc8b1705a8a"
      },
      "source": [
        "# split into train and test sets\n",
        "train_size = int(len(dataset) * 0.67)\n",
        "test_size = len(dataset) - train_size\n",
        "train, test = dataset[0:train_size,:], dataset[train_size:len(dataset),:]\n",
        "print(len(train), len(test))"
      ],
      "execution_count": 19,
      "outputs": [
        {
          "output_type": "stream",
          "text": [
            "96 48\n"
          ],
          "name": "stdout"
        }
      ]
    },
    {
      "cell_type": "code",
      "metadata": {
        "id": "pUE3SIItHibl",
        "colab_type": "code",
        "colab": {}
      },
      "source": [
        "# convert an array of values into a dataset matrix\n",
        "def create_dataset(dataset, look_back=1):\n",
        "\tdataX, dataY = [], []\n",
        "\tfor i in range(len(dataset)-look_back-1):\n",
        "\t\ta = dataset[i:(i+look_back), 0]\n",
        "\t\tdataX.append(a)\n",
        "\t\tdataY.append(dataset[i + look_back, 0])\n",
        "\treturn numpy.array(dataX), numpy.array(dataY)"
      ],
      "execution_count": 20,
      "outputs": []
    },
    {
      "cell_type": "code",
      "metadata": {
        "id": "WN8jUYsAHtAb",
        "colab_type": "code",
        "colab": {
          "base_uri": "https://localhost:8080/",
          "height": 1000
        },
        "outputId": "2f585c07-f038-4e9f-90c7-2bb46f9dfbd8"
      },
      "source": [
        "# reshape into X=t and Y=t+1\n",
        "look_back = 1\n",
        "trainX, trainY = create_dataset(train, look_back)\n",
        "testX, testY = create_dataset(test, look_back)\n",
        "\n",
        "trainX"
      ],
      "execution_count": 21,
      "outputs": [
        {
          "output_type": "execute_result",
          "data": {
            "text/plain": [
              "array([[0.01544401],\n",
              "       [0.02702703],\n",
              "       [0.05405405],\n",
              "       [0.04826255],\n",
              "       [0.03281853],\n",
              "       [0.05984557],\n",
              "       [0.08494207],\n",
              "       [0.08494207],\n",
              "       [0.06177607],\n",
              "       [0.02895753],\n",
              "       [0.        ],\n",
              "       [0.02702703],\n",
              "       [0.02123553],\n",
              "       [0.04247104],\n",
              "       [0.07142857],\n",
              "       [0.05984557],\n",
              "       [0.04054055],\n",
              "       [0.08687258],\n",
              "       [0.12741312],\n",
              "       [0.12741312],\n",
              "       [0.10424709],\n",
              "       [0.05598456],\n",
              "       [0.01930502],\n",
              "       [0.06949806],\n",
              "       [0.07915059],\n",
              "       [0.08880308],\n",
              "       [0.14285713],\n",
              "       [0.11389962],\n",
              "       [0.13127413],\n",
              "       [0.14285713],\n",
              "       [0.18339768],\n",
              "       [0.18339768],\n",
              "       [0.15444016],\n",
              "       [0.11196911],\n",
              "       [0.08108109],\n",
              "       [0.1196911 ],\n",
              "       [0.12934363],\n",
              "       [0.14671814],\n",
              "       [0.17181468],\n",
              "       [0.14864865],\n",
              "       [0.15250966],\n",
              "       [0.22007722],\n",
              "       [0.24324325],\n",
              "       [0.26640925],\n",
              "       [0.2027027 ],\n",
              "       [0.16795367],\n",
              "       [0.13127413],\n",
              "       [0.17374519],\n",
              "       [0.17760617],\n",
              "       [0.17760617],\n",
              "       [0.25482625],\n",
              "       [0.25289574],\n",
              "       [0.24131274],\n",
              "       [0.26833975],\n",
              "       [0.3088803 ],\n",
              "       [0.32432434],\n",
              "       [0.25675675],\n",
              "       [0.20656371],\n",
              "       [0.14671814],\n",
              "       [0.18725869],\n",
              "       [0.19305018],\n",
              "       [0.16216215],\n",
              "       [0.25289574],\n",
              "       [0.23745173],\n",
              "       [0.25096524],\n",
              "       [0.3088803 ],\n",
              "       [0.38223937],\n",
              "       [0.36486486],\n",
              "       [0.2992278 ],\n",
              "       [0.24131274],\n",
              "       [0.1911197 ],\n",
              "       [0.24131274],\n",
              "       [0.26640925],\n",
              "       [0.24903473],\n",
              "       [0.31467178],\n",
              "       [0.3185328 ],\n",
              "       [0.32046333],\n",
              "       [0.4073359 ],\n",
              "       [0.5019305 ],\n",
              "       [0.46911195],\n",
              "       [0.40154442],\n",
              "       [0.32818535],\n",
              "       [0.25675675],\n",
              "       [0.3359073 ],\n",
              "       [0.34749034],\n",
              "       [0.33397684],\n",
              "       [0.41119692],\n",
              "       [0.4034749 ],\n",
              "       [0.4131274 ],\n",
              "       [0.52123547],\n",
              "       [0.5965251 ],\n",
              "       [0.58108103],\n",
              "       [0.484556  ],\n",
              "       [0.3899614 ]], dtype=float32)"
            ]
          },
          "metadata": {
            "tags": []
          },
          "execution_count": 21
        }
      ]
    },
    {
      "cell_type": "code",
      "metadata": {
        "id": "_epHW4kWIBDh",
        "colab_type": "code",
        "colab": {}
      },
      "source": [
        "# if look_back = 1\n",
        "# 2 ,3,6,7,8   ...... where 2 is input\n",
        "# (2) --> (3)\n",
        "# (3) --> (6)\n",
        "# (6) --> (7)\n",
        "# (7) --> (8)\n",
        "\n",
        "# if look_back = 2\n",
        "# (2,3) --> (6) # take 2 and 3 to predict 6\n",
        "# (3,6) --> (7) # take 3 and 6 to predict 7\n",
        "# (6,7) --> (8)"
      ],
      "execution_count": null,
      "outputs": []
    },
    {
      "cell_type": "code",
      "metadata": {
        "id": "Ws5BbIxwInDx",
        "colab_type": "code",
        "colab": {
          "base_uri": "https://localhost:8080/",
          "height": 1000
        },
        "outputId": "74ab93d2-35c9-4506-85c6-62a52986d00b"
      },
      "source": [
        "# reshape input to be [samples, time steps, features]\n",
        "trainX = numpy.reshape(trainX, (trainX.shape[0], 1, trainX.shape[1]))\n",
        "testX = numpy.reshape(testX, (testX.shape[0], 1, testX.shape[1]))\n",
        "trainX"
      ],
      "execution_count": 22,
      "outputs": [
        {
          "output_type": "execute_result",
          "data": {
            "text/plain": [
              "array([[[0.01544401]],\n",
              "\n",
              "       [[0.02702703]],\n",
              "\n",
              "       [[0.05405405]],\n",
              "\n",
              "       [[0.04826255]],\n",
              "\n",
              "       [[0.03281853]],\n",
              "\n",
              "       [[0.05984557]],\n",
              "\n",
              "       [[0.08494207]],\n",
              "\n",
              "       [[0.08494207]],\n",
              "\n",
              "       [[0.06177607]],\n",
              "\n",
              "       [[0.02895753]],\n",
              "\n",
              "       [[0.        ]],\n",
              "\n",
              "       [[0.02702703]],\n",
              "\n",
              "       [[0.02123553]],\n",
              "\n",
              "       [[0.04247104]],\n",
              "\n",
              "       [[0.07142857]],\n",
              "\n",
              "       [[0.05984557]],\n",
              "\n",
              "       [[0.04054055]],\n",
              "\n",
              "       [[0.08687258]],\n",
              "\n",
              "       [[0.12741312]],\n",
              "\n",
              "       [[0.12741312]],\n",
              "\n",
              "       [[0.10424709]],\n",
              "\n",
              "       [[0.05598456]],\n",
              "\n",
              "       [[0.01930502]],\n",
              "\n",
              "       [[0.06949806]],\n",
              "\n",
              "       [[0.07915059]],\n",
              "\n",
              "       [[0.08880308]],\n",
              "\n",
              "       [[0.14285713]],\n",
              "\n",
              "       [[0.11389962]],\n",
              "\n",
              "       [[0.13127413]],\n",
              "\n",
              "       [[0.14285713]],\n",
              "\n",
              "       [[0.18339768]],\n",
              "\n",
              "       [[0.18339768]],\n",
              "\n",
              "       [[0.15444016]],\n",
              "\n",
              "       [[0.11196911]],\n",
              "\n",
              "       [[0.08108109]],\n",
              "\n",
              "       [[0.1196911 ]],\n",
              "\n",
              "       [[0.12934363]],\n",
              "\n",
              "       [[0.14671814]],\n",
              "\n",
              "       [[0.17181468]],\n",
              "\n",
              "       [[0.14864865]],\n",
              "\n",
              "       [[0.15250966]],\n",
              "\n",
              "       [[0.22007722]],\n",
              "\n",
              "       [[0.24324325]],\n",
              "\n",
              "       [[0.26640925]],\n",
              "\n",
              "       [[0.2027027 ]],\n",
              "\n",
              "       [[0.16795367]],\n",
              "\n",
              "       [[0.13127413]],\n",
              "\n",
              "       [[0.17374519]],\n",
              "\n",
              "       [[0.17760617]],\n",
              "\n",
              "       [[0.17760617]],\n",
              "\n",
              "       [[0.25482625]],\n",
              "\n",
              "       [[0.25289574]],\n",
              "\n",
              "       [[0.24131274]],\n",
              "\n",
              "       [[0.26833975]],\n",
              "\n",
              "       [[0.3088803 ]],\n",
              "\n",
              "       [[0.32432434]],\n",
              "\n",
              "       [[0.25675675]],\n",
              "\n",
              "       [[0.20656371]],\n",
              "\n",
              "       [[0.14671814]],\n",
              "\n",
              "       [[0.18725869]],\n",
              "\n",
              "       [[0.19305018]],\n",
              "\n",
              "       [[0.16216215]],\n",
              "\n",
              "       [[0.25289574]],\n",
              "\n",
              "       [[0.23745173]],\n",
              "\n",
              "       [[0.25096524]],\n",
              "\n",
              "       [[0.3088803 ]],\n",
              "\n",
              "       [[0.38223937]],\n",
              "\n",
              "       [[0.36486486]],\n",
              "\n",
              "       [[0.2992278 ]],\n",
              "\n",
              "       [[0.24131274]],\n",
              "\n",
              "       [[0.1911197 ]],\n",
              "\n",
              "       [[0.24131274]],\n",
              "\n",
              "       [[0.26640925]],\n",
              "\n",
              "       [[0.24903473]],\n",
              "\n",
              "       [[0.31467178]],\n",
              "\n",
              "       [[0.3185328 ]],\n",
              "\n",
              "       [[0.32046333]],\n",
              "\n",
              "       [[0.4073359 ]],\n",
              "\n",
              "       [[0.5019305 ]],\n",
              "\n",
              "       [[0.46911195]],\n",
              "\n",
              "       [[0.40154442]],\n",
              "\n",
              "       [[0.32818535]],\n",
              "\n",
              "       [[0.25675675]],\n",
              "\n",
              "       [[0.3359073 ]],\n",
              "\n",
              "       [[0.34749034]],\n",
              "\n",
              "       [[0.33397684]],\n",
              "\n",
              "       [[0.41119692]],\n",
              "\n",
              "       [[0.4034749 ]],\n",
              "\n",
              "       [[0.4131274 ]],\n",
              "\n",
              "       [[0.52123547]],\n",
              "\n",
              "       [[0.5965251 ]],\n",
              "\n",
              "       [[0.58108103]],\n",
              "\n",
              "       [[0.484556  ]],\n",
              "\n",
              "       [[0.3899614 ]]], dtype=float32)"
            ]
          },
          "metadata": {
            "tags": []
          },
          "execution_count": 22
        }
      ]
    },
    {
      "cell_type": "code",
      "metadata": {
        "id": "I0NuruQHIuqY",
        "colab_type": "code",
        "colab": {
          "base_uri": "https://localhost:8080/",
          "height": 1000
        },
        "outputId": "6effc5db-972d-4615-8db6-e8309c0baeac"
      },
      "source": [
        "# create and fit the LSTM network\n",
        "model = Sequential()\n",
        "model.add(LSTM(4, input_shape=(1, look_back)))\n",
        "model.add(Dense(1))\n",
        "model.compile(loss='mean_squared_error', optimizer='adam')\n",
        "model.fit(trainX, trainY, epochs=100, batch_size=1, verbose=2)"
      ],
      "execution_count": 23,
      "outputs": [
        {
          "output_type": "stream",
          "text": [
            "Epoch 1/100\n",
            " - 0s - loss: 0.0423\n",
            "Epoch 2/100\n",
            " - 0s - loss: 0.0207\n",
            "Epoch 3/100\n",
            " - 0s - loss: 0.0150\n",
            "Epoch 4/100\n",
            " - 0s - loss: 0.0135\n",
            "Epoch 5/100\n",
            " - 0s - loss: 0.0124\n",
            "Epoch 6/100\n",
            " - 0s - loss: 0.0115\n",
            "Epoch 7/100\n",
            " - 0s - loss: 0.0105\n",
            "Epoch 8/100\n",
            " - 0s - loss: 0.0096\n",
            "Epoch 9/100\n",
            " - 0s - loss: 0.0086\n",
            "Epoch 10/100\n",
            " - 0s - loss: 0.0076\n",
            "Epoch 11/100\n",
            " - 0s - loss: 0.0067\n",
            "Epoch 12/100\n",
            " - 0s - loss: 0.0059\n",
            "Epoch 13/100\n",
            " - 0s - loss: 0.0051\n",
            "Epoch 14/100\n",
            " - 0s - loss: 0.0044\n",
            "Epoch 15/100\n",
            " - 0s - loss: 0.0038\n",
            "Epoch 16/100\n",
            " - 0s - loss: 0.0034\n",
            "Epoch 17/100\n",
            " - 0s - loss: 0.0030\n",
            "Epoch 18/100\n",
            " - 0s - loss: 0.0027\n",
            "Epoch 19/100\n",
            " - 0s - loss: 0.0024\n",
            "Epoch 20/100\n",
            " - 0s - loss: 0.0023\n",
            "Epoch 21/100\n",
            " - 0s - loss: 0.0022\n",
            "Epoch 22/100\n",
            " - 0s - loss: 0.0021\n",
            "Epoch 23/100\n",
            " - 0s - loss: 0.0021\n",
            "Epoch 24/100\n",
            " - 0s - loss: 0.0020\n",
            "Epoch 25/100\n",
            " - 0s - loss: 0.0020\n",
            "Epoch 26/100\n",
            " - 0s - loss: 0.0020\n",
            "Epoch 27/100\n",
            " - 0s - loss: 0.0020\n",
            "Epoch 28/100\n",
            " - 0s - loss: 0.0020\n",
            "Epoch 29/100\n",
            " - 0s - loss: 0.0020\n",
            "Epoch 30/100\n",
            " - 0s - loss: 0.0020\n",
            "Epoch 31/100\n",
            " - 0s - loss: 0.0020\n",
            "Epoch 32/100\n",
            " - 0s - loss: 0.0020\n",
            "Epoch 33/100\n",
            " - 0s - loss: 0.0020\n",
            "Epoch 34/100\n",
            " - 0s - loss: 0.0020\n",
            "Epoch 35/100\n",
            " - 0s - loss: 0.0020\n",
            "Epoch 36/100\n",
            " - 0s - loss: 0.0020\n",
            "Epoch 37/100\n",
            " - 0s - loss: 0.0020\n",
            "Epoch 38/100\n",
            " - 0s - loss: 0.0020\n",
            "Epoch 39/100\n",
            " - 0s - loss: 0.0020\n",
            "Epoch 40/100\n",
            " - 0s - loss: 0.0021\n",
            "Epoch 41/100\n",
            " - 0s - loss: 0.0020\n",
            "Epoch 42/100\n",
            " - 0s - loss: 0.0020\n",
            "Epoch 43/100\n",
            " - 0s - loss: 0.0020\n",
            "Epoch 44/100\n",
            " - 0s - loss: 0.0020\n",
            "Epoch 45/100\n",
            " - 0s - loss: 0.0020\n",
            "Epoch 46/100\n",
            " - 0s - loss: 0.0020\n",
            "Epoch 47/100\n",
            " - 0s - loss: 0.0020\n",
            "Epoch 48/100\n",
            " - 0s - loss: 0.0020\n",
            "Epoch 49/100\n",
            " - 0s - loss: 0.0020\n",
            "Epoch 50/100\n",
            " - 0s - loss: 0.0020\n",
            "Epoch 51/100\n",
            " - 0s - loss: 0.0020\n",
            "Epoch 52/100\n",
            " - 0s - loss: 0.0020\n",
            "Epoch 53/100\n",
            " - 0s - loss: 0.0020\n",
            "Epoch 54/100\n",
            " - 0s - loss: 0.0020\n",
            "Epoch 55/100\n",
            " - 0s - loss: 0.0020\n",
            "Epoch 56/100\n",
            " - 0s - loss: 0.0020\n",
            "Epoch 57/100\n",
            " - 0s - loss: 0.0020\n",
            "Epoch 58/100\n",
            " - 0s - loss: 0.0020\n",
            "Epoch 59/100\n",
            " - 0s - loss: 0.0020\n",
            "Epoch 60/100\n",
            " - 0s - loss: 0.0020\n",
            "Epoch 61/100\n",
            " - 0s - loss: 0.0020\n",
            "Epoch 62/100\n",
            " - 0s - loss: 0.0020\n",
            "Epoch 63/100\n",
            " - 0s - loss: 0.0020\n",
            "Epoch 64/100\n",
            " - 0s - loss: 0.0020\n",
            "Epoch 65/100\n",
            " - 0s - loss: 0.0020\n",
            "Epoch 66/100\n",
            " - 0s - loss: 0.0020\n",
            "Epoch 67/100\n",
            " - 0s - loss: 0.0020\n",
            "Epoch 68/100\n",
            " - 0s - loss: 0.0020\n",
            "Epoch 69/100\n",
            " - 0s - loss: 0.0020\n",
            "Epoch 70/100\n",
            " - 0s - loss: 0.0020\n",
            "Epoch 71/100\n",
            " - 0s - loss: 0.0020\n",
            "Epoch 72/100\n",
            " - 0s - loss: 0.0020\n",
            "Epoch 73/100\n",
            " - 0s - loss: 0.0020\n",
            "Epoch 74/100\n",
            " - 0s - loss: 0.0020\n",
            "Epoch 75/100\n",
            " - 0s - loss: 0.0020\n",
            "Epoch 76/100\n",
            " - 0s - loss: 0.0020\n",
            "Epoch 77/100\n",
            " - 0s - loss: 0.0020\n",
            "Epoch 78/100\n",
            " - 0s - loss: 0.0020\n",
            "Epoch 79/100\n",
            " - 0s - loss: 0.0020\n",
            "Epoch 80/100\n",
            " - 0s - loss: 0.0019\n",
            "Epoch 81/100\n",
            " - 0s - loss: 0.0020\n",
            "Epoch 82/100\n",
            " - 0s - loss: 0.0020\n",
            "Epoch 83/100\n",
            " - 0s - loss: 0.0020\n",
            "Epoch 84/100\n",
            " - 0s - loss: 0.0020\n",
            "Epoch 85/100\n",
            " - 0s - loss: 0.0020\n",
            "Epoch 86/100\n",
            " - 0s - loss: 0.0020\n",
            "Epoch 87/100\n",
            " - 0s - loss: 0.0020\n",
            "Epoch 88/100\n",
            " - 0s - loss: 0.0020\n",
            "Epoch 89/100\n",
            " - 0s - loss: 0.0021\n",
            "Epoch 90/100\n",
            " - 0s - loss: 0.0020\n",
            "Epoch 91/100\n",
            " - 0s - loss: 0.0020\n",
            "Epoch 92/100\n",
            " - 0s - loss: 0.0020\n",
            "Epoch 93/100\n",
            " - 0s - loss: 0.0020\n",
            "Epoch 94/100\n",
            " - 0s - loss: 0.0020\n",
            "Epoch 95/100\n",
            " - 0s - loss: 0.0021\n",
            "Epoch 96/100\n",
            " - 0s - loss: 0.0019\n",
            "Epoch 97/100\n",
            " - 0s - loss: 0.0019\n",
            "Epoch 98/100\n",
            " - 0s - loss: 0.0020\n",
            "Epoch 99/100\n",
            " - 0s - loss: 0.0020\n",
            "Epoch 100/100\n",
            " - 0s - loss: 0.0020\n"
          ],
          "name": "stdout"
        },
        {
          "output_type": "execute_result",
          "data": {
            "text/plain": [
              "<keras.callbacks.callbacks.History at 0x7fa5b70d4fd0>"
            ]
          },
          "metadata": {
            "tags": []
          },
          "execution_count": 23
        }
      ]
    },
    {
      "cell_type": "code",
      "metadata": {
        "id": "b5WfkBTtI1Wh",
        "colab_type": "code",
        "colab": {
          "base_uri": "https://localhost:8080/",
          "height": 51
        },
        "outputId": "de524fb7-a141-4074-f5c0-d6eccc94978f"
      },
      "source": [
        "# make predictions\n",
        "trainPredict = model.predict(trainX)\n",
        "testPredict = model.predict(testX)\n",
        "# invert predictions\n",
        "trainPredict = scaler.inverse_transform(trainPredict)\n",
        "trainY = scaler.inverse_transform([trainY])\n",
        "testPredict = scaler.inverse_transform(testPredict)\n",
        "testY = scaler.inverse_transform([testY])\n",
        "# calculate root mean squared error\n",
        "trainScore = math.sqrt(mean_squared_error(trainY[0], trainPredict[:,0]))\n",
        "print('Train Score: %.2f RMSE' % (trainScore))\n",
        "testScore = math.sqrt(mean_squared_error(testY[0], testPredict[:,0]))\n",
        "print('Test Score: %.2f RMSE' % (testScore))"
      ],
      "execution_count": 24,
      "outputs": [
        {
          "output_type": "stream",
          "text": [
            "Train Score: 22.71 RMSE\n",
            "Test Score: 50.10 RMSE\n"
          ],
          "name": "stdout"
        }
      ]
    },
    {
      "cell_type": "code",
      "metadata": {
        "id": "qbqfLgsWI_E1",
        "colab_type": "code",
        "colab": {
          "base_uri": "https://localhost:8080/",
          "height": 265
        },
        "outputId": "b98329ce-cb3a-4598-c7e0-d640843db587"
      },
      "source": [
        "# shift train predictions for plotting\n",
        "trainPredictPlot = numpy.empty_like(dataset)\n",
        "trainPredictPlot[:, :] = numpy.nan\n",
        "trainPredictPlot[look_back:len(trainPredict)+look_back, :] = trainPredict\n",
        "# shift test predictions for plotting\n",
        "testPredictPlot = numpy.empty_like(dataset)\n",
        "testPredictPlot[:, :] = numpy.nan\n",
        "testPredictPlot[len(trainPredict)+(look_back*2)+1:len(dataset)-1, :] = testPredict\n",
        "# plot baseline and predictions\n",
        "plt.plot(scaler.inverse_transform(dataset))\n",
        "plt.plot(trainPredictPlot)\n",
        "plt.plot(testPredictPlot)\n",
        "plt.show()\n",
        "#training dataset orange\n",
        "#test dataset green"
      ],
      "execution_count": 25,
      "outputs": [
        {
          "output_type": "display_data",
          "data": {
            "image/png": "[encoded data removed]",
            "text/plain": [
              "<Figure size 432x288 with 1 Axes>"
            ]
          },
          "metadata": {
            "tags": [],
            "needs_background": "light"
          }
        }
      ]
    }
  ]
}