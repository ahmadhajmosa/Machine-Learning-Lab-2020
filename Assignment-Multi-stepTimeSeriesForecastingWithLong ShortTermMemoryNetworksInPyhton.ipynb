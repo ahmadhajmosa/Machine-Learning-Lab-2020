{
  "nbformat": 4,
  "nbformat_minor": 0,
  "metadata": {
    "colab": {
      "name": "Untitled1.ipynb",
      "provenance": [],
      "authorship_tag": "ABX9TyMm0RFgqjseMEuOX4uop4cZ",
      "include_colab_link": true
    },
    "kernelspec": {
      "name": "python3",
      "display_name": "Python 3"
    }
  },
  "cells": [
    {
      "cell_type": "markdown",
      "metadata": {
        "id": "view-in-github",
        "colab_type": "text"
      },
      "source": [
        "<a href=\"https://colab.research.google.com/github/ahmadhajmosa/Machine-Learning-Lab-2020/blob/emir/Assignment-Multi-stepTimeSeriesForecastingWithLong%20ShortTermMemoryNetworksInPyhton.ipynb\" target=\"_parent\"><img src=\"https://colab.research.google.com/assets/colab-badge.svg\" alt=\"Open In Colab\"/></a>"
      ]
    },
    {
      "cell_type": "markdown",
      "metadata": {
        "id": "0Z1zVVTPPAll",
        "colab_type": "text"
      },
      "source": [
        "# Assignment for Time Series"
      ]
    },
    {
      "cell_type": "code",
      "metadata": {
        "id": "yMQrybdNPNv4",
        "colab_type": "code",
        "colab": {
          "base_uri": "https://localhost:8080/",
          "height": 238
        },
        "outputId": "1e8b5b52-7186-4f87-f130-5035eac3499e"
      },
      "source": [
        "from pandas import DataFrame\n",
        "from pandas import concat\n",
        "from pandas import read_csv\n",
        "from pandas import datetime\n",
        " \n",
        "# date-time parsing function for loading the dataset\n",
        "def parser(x):\n",
        "\treturn datetime.strptime('190'+x, '%Y-%m')\n",
        " \n",
        "# convert time series into supervised learning problem\n",
        "def series_to_supervised(data, n_in=1, n_out=1, dropnan=True):\n",
        "\tn_vars = 1 if type(data) is list else data.shape[1]\n",
        "\tdf = DataFrame(data)\n",
        "\tcols, names = list(), list()\n",
        "\t# input sequence (t-n, ... t-1)\n",
        "\tfor i in range(n_in, 0, -1):\n",
        "\t\tcols.append(df.shift(i))\n",
        "\t\tnames += [('var%d(t-%d)' % (j+1, i)) for j in range(n_vars)]\n",
        "\t# forecast sequence (t, t+1, ... t+n)\n",
        "\tfor i in range(0, n_out):\n",
        "\t\tcols.append(df.shift(-i))\n",
        "\t\tif i == 0:\n",
        "\t\t\tnames += [('var%d(t)' % (j+1)) for j in range(n_vars)]\n",
        "\t\telse:\n",
        "\t\t\tnames += [('var%d(t+%d)' % (j+1, i)) for j in range(n_vars)]\n",
        "\t# put it all together\n",
        "\tagg = concat(cols, axis=1)\n",
        "\tagg.columns = names\n",
        "\t# drop rows with NaN values\n",
        "\tif dropnan:\n",
        "\t\tagg.dropna(inplace=True)\n",
        "\treturn agg\n",
        " \n",
        "# transform series into train and test sets for supervised learning\n",
        "def prepare_data(series, n_test, n_lag, n_seq):\n",
        "\t# extract raw values\n",
        "\traw_values = series.values\n",
        "\traw_values = raw_values.reshape(len(raw_values), 1)\n",
        "\t# transform into supervised learning problem X, y\n",
        "\tsupervised = series_to_supervised(raw_values, n_lag, n_seq)\n",
        "\tsupervised_values = supervised.values\n",
        "\t# split into train and test sets\n",
        "\ttrain, test = supervised_values[0:-n_test], supervised_values[-n_test:]\n",
        "\treturn train, test\n",
        " \n",
        "# load dataset\n",
        "series = read_csv('https://raw.githubusercontent.com/jbrownlee/Datasets/master/shampoo.csv', header=0, parse_dates=[0], index_col=0, squeeze=True, date_parser=parser)\n",
        "# configure\n",
        "n_lag = 1\n",
        "n_seq = 3\n",
        "n_test = 10\n",
        "# prepare data\n",
        "train, test = prepare_data(series, n_test, n_lag, n_seq)\n",
        "print(test)\n",
        "print('Train: %s, Test: %s' % (train.shape, test.shape))"
      ],
      "execution_count": 7,
      "outputs": [
        {
          "output_type": "stream",
          "text": [
            "[[342.3 339.7 440.4 315.9]\n",
            " [339.7 440.4 315.9 439.3]\n",
            " [440.4 315.9 439.3 401.3]\n",
            " [315.9 439.3 401.3 437.4]\n",
            " [439.3 401.3 437.4 575.5]\n",
            " [401.3 437.4 575.5 407.6]\n",
            " [437.4 575.5 407.6 682. ]\n",
            " [575.5 407.6 682.  475.3]\n",
            " [407.6 682.  475.3 581.3]\n",
            " [682.  475.3 581.3 646.9]]\n",
            "Train: (23, 4), Test: (10, 4)\n"
          ],
          "name": "stdout"
        },
        {
          "output_type": "stream",
          "text": [
            "/usr/local/lib/python3.6/dist-packages/ipykernel_launcher.py:8: FutureWarning: The pandas.datetime class is deprecated and will be removed from pandas in a future version. Import from datetime instead.\n",
            "  \n"
          ],
          "name": "stderr"
        }
      ]
    },
    {
      "cell_type": "markdown",
      "metadata": {
        "id": "DBibH9-HP_d1",
        "colab_type": "text"
      },
      "source": [
        "# With Forecast"
      ]
    },
    {
      "cell_type": "code",
      "metadata": {
        "id": "h9UM5BYMQDEP",
        "colab_type": "code",
        "colab": {
          "base_uri": "https://localhost:8080/",
          "height": 351
        },
        "outputId": "cdea1991-dc11-402d-f37f-179518ea006f"
      },
      "source": [
        "from pandas import concat\n",
        "from pandas import read_csv\n",
        "from pandas import datetime\n",
        "from sklearn.metrics import mean_squared_error\n",
        "from math import sqrt\n",
        "from matplotlib import pyplot\n",
        " \n",
        "# date-time parsing function for loading the dataset\n",
        "def parser(x):\n",
        "\treturn datetime.strptime('190'+x, '%Y-%m')\n",
        " \n",
        "# convert time series into supervised learning problem\n",
        "def series_to_supervised(data, n_in=1, n_out=1, dropnan=True):\n",
        "\tn_vars = 1 if type(data) is list else data.shape[1]\n",
        "\tdf = DataFrame(data)\n",
        "\tcols, names = list(), list()\n",
        "\t# input sequence (t-n, ... t-1)\n",
        "\tfor i in range(n_in, 0, -1):\n",
        "\t\tcols.append(df.shift(i))\n",
        "\t\tnames += [('var%d(t-%d)' % (j+1, i)) for j in range(n_vars)]\n",
        "\t# forecast sequence (t, t+1, ... t+n)\n",
        "\tfor i in range(0, n_out):\n",
        "\t\tcols.append(df.shift(-i))\n",
        "\t\tif i == 0:\n",
        "\t\t\tnames += [('var%d(t)' % (j+1)) for j in range(n_vars)]\n",
        "\t\telse:\n",
        "\t\t\tnames += [('var%d(t+%d)' % (j+1, i)) for j in range(n_vars)]\n",
        "\t# put it all together\n",
        "\tagg = concat(cols, axis=1)\n",
        "\tagg.columns = names\n",
        "\t# drop rows with NaN values\n",
        "\tif dropnan:\n",
        "\t\tagg.dropna(inplace=True)\n",
        "\treturn agg\n",
        " \n",
        "# transform series into train and test sets for supervised learning\n",
        "def prepare_data(series, n_test, n_lag, n_seq):\n",
        "\t# extract raw values\n",
        "\traw_values = series.values\n",
        "\traw_values = raw_values.reshape(len(raw_values), 1)\n",
        "\t# transform into supervised learning problem X, y\n",
        "\tsupervised = series_to_supervised(raw_values, n_lag, n_seq)\n",
        "\tsupervised_values = supervised.values\n",
        "\t# split into train and test sets\n",
        "\ttrain, test = supervised_values[0:-n_test], supervised_values[-n_test:]\n",
        "\treturn train, test\n",
        " \n",
        "# make a persistence forecast\n",
        "def persistence(last_ob, n_seq):\n",
        "\treturn [last_ob for i in range(n_seq)]\n",
        " \n",
        "# evaluate the persistence model\n",
        "def make_forecasts(train, test, n_lag, n_seq):\n",
        "\tforecasts = list()\n",
        "\tfor i in range(len(test)):\n",
        "\t\tX, y = test[i, 0:n_lag], test[i, n_lag:]\n",
        "\t\t# make forecast\n",
        "\t\tforecast = persistence(X[-1], n_seq)\n",
        "\t\t# store the forecast\n",
        "\t\tforecasts.append(forecast)\n",
        "\treturn forecasts\n",
        " \n",
        "# evaluate the RMSE for each forecast time step\n",
        "def evaluate_forecasts(test, forecasts, n_lag, n_seq):\n",
        "\tfor i in range(n_seq):\n",
        "\t\tactual = test[:,(n_lag+i)]\n",
        "\t\tpredicted = [forecast[i] for forecast in forecasts]\n",
        "\t\trmse = sqrt(mean_squared_error(actual, predicted))\n",
        "\t\tprint('t+%d RMSE: %f' % ((i+1), rmse))\n",
        " \n",
        "# plot the forecasts in the context of the original dataset\n",
        "def plot_forecasts(series, forecasts, n_test):\n",
        "\t# plot the entire dataset in blue\n",
        "\tpyplot.plot(series.values)\n",
        "\t# plot the forecasts in red\n",
        "\tfor i in range(len(forecasts)):\n",
        "\t\toff_s = len(series) - n_test + i - 1\n",
        "\t\toff_e = off_s + len(forecasts[i]) + 1\n",
        "\t\txaxis = [x for x in range(off_s, off_e)]\n",
        "\t\tyaxis = [series.values[off_s]] + forecasts[i]\n",
        "\t\tpyplot.plot(xaxis, yaxis, color='red')\n",
        "\t# show the plot\n",
        "\tpyplot.show()\n",
        " \n",
        "# load dataset\n",
        "series = read_csv('https://raw.githubusercontent.com/jbrownlee/Datasets/master/shampoo.csv', header=0, parse_dates=[0], index_col=0, squeeze=True, date_parser=parser)\n",
        "# configure\n",
        "n_lag = 1\n",
        "n_seq = 3\n",
        "n_test = 10\n",
        "# prepare data\n",
        "train, test = prepare_data(series, n_test, n_lag, n_seq)\n",
        "# make forecasts\n",
        "forecasts = make_forecasts(train, test, n_lag, n_seq)\n",
        "# evaluate forecasts\n",
        "evaluate_forecasts(test, forecasts, n_lag, n_seq)\n",
        "# plot forecasts\n",
        "plot_forecasts(series, forecasts, n_test+2)"
      ],
      "execution_count": 8,
      "outputs": [
        {
          "output_type": "stream",
          "text": [
            "t+1 RMSE: 144.535304\n",
            "t+2 RMSE: 86.479905\n",
            "t+3 RMSE: 121.149168\n"
          ],
          "name": "stdout"
        },
        {
          "output_type": "stream",
          "text": [
            "/usr/local/lib/python3.6/dist-packages/ipykernel_launcher.py:10: FutureWarning: The pandas.datetime class is deprecated and will be removed from pandas in a future version. Import from datetime instead.\n",
            "  # Remove the CWD from sys.path while we load stuff.\n"
          ],
          "name": "stderr"
        },
        {
          "output_type": "display_data",
          "data": {
            "image/png": "[encoded data removed]",
            "text/plain": [
              "<Figure size 432x288 with 1 Axes>"
            ]
          },
          "metadata": {
            "tags": [],
            "needs_background": "light"
          }
        }
      ]
    },
    {
      "cell_type": "markdown",
      "metadata": {
        "id": "iQfro0mUQLyz",
        "colab_type": "text"
      },
      "source": [
        "# LSTM Forecasts"
      ]
    },
    {
      "cell_type": "code",
      "metadata": {
        "id": "uLJdZfVNQOTE",
        "colab_type": "code",
        "colab": {
          "base_uri": "https://localhost:8080/",
          "height": 368
        },
        "outputId": "24a9686f-e4ce-4c36-ab2f-3fcb8f9b14c7"
      },
      "source": [
        "from pandas import Series\n",
        "from pandas import concat\n",
        "from pandas import read_csv\n",
        "from pandas import datetime\n",
        "from sklearn.metrics import mean_squared_error\n",
        "from sklearn.preprocessing import MinMaxScaler\n",
        "from keras.models import Sequential\n",
        "from keras.layers import Dense\n",
        "from keras.layers import LSTM\n",
        "from math import sqrt\n",
        "from matplotlib import pyplot\n",
        "from numpy import array\n",
        " \n",
        "# date-time parsing function for loading the dataset\n",
        "def parser(x):\n",
        "\treturn datetime.strptime('190'+x, '%Y-%m')\n",
        " \n",
        "# convert time series into supervised learning problem\n",
        "def series_to_supervised(data, n_in=1, n_out=1, dropnan=True):\n",
        "\tn_vars = 1 if type(data) is list else data.shape[1]\n",
        "\tdf = DataFrame(data)\n",
        "\tcols, names = list(), list()\n",
        "\t# input sequence (t-n, ... t-1)\n",
        "\tfor i in range(n_in, 0, -1):\n",
        "\t\tcols.append(df.shift(i))\n",
        "\t\tnames += [('var%d(t-%d)' % (j+1, i)) for j in range(n_vars)]\n",
        "\t# forecast sequence (t, t+1, ... t+n)\n",
        "\tfor i in range(0, n_out):\n",
        "\t\tcols.append(df.shift(-i))\n",
        "\t\tif i == 0:\n",
        "\t\t\tnames += [('var%d(t)' % (j+1)) for j in range(n_vars)]\n",
        "\t\telse:\n",
        "\t\t\tnames += [('var%d(t+%d)' % (j+1, i)) for j in range(n_vars)]\n",
        "\t# put it all together\n",
        "\tagg = concat(cols, axis=1)\n",
        "\tagg.columns = names\n",
        "\t# drop rows with NaN values\n",
        "\tif dropnan:\n",
        "\t\tagg.dropna(inplace=True)\n",
        "\treturn agg\n",
        " \n",
        "# create a differenced series\n",
        "def difference(dataset, interval=1):\n",
        "\tdiff = list()\n",
        "\tfor i in range(interval, len(dataset)):\n",
        "\t\tvalue = dataset[i] - dataset[i - interval]\n",
        "\t\tdiff.append(value)\n",
        "\treturn Series(diff)\n",
        " \n",
        "# transform series into train and test sets for supervised learning\n",
        "def prepare_data(series, n_test, n_lag, n_seq):\n",
        "\t# extract raw values\n",
        "\traw_values = series.values\n",
        "\t# transform data to be stationary\n",
        "\tdiff_series = difference(raw_values, 1)\n",
        "\tdiff_values = diff_series.values\n",
        "\tdiff_values = diff_values.reshape(len(diff_values), 1)\n",
        "\t# rescale values to -1, 1\n",
        "\tscaler = MinMaxScaler(feature_range=(-1, 1))\n",
        "\tscaled_values = scaler.fit_transform(diff_values)\n",
        "\tscaled_values = scaled_values.reshape(len(scaled_values), 1)\n",
        "\t# transform into supervised learning problem X, y\n",
        "\tsupervised = series_to_supervised(scaled_values, n_lag, n_seq)\n",
        "\tsupervised_values = supervised.values\n",
        "\t# split into train and test sets\n",
        "\ttrain, test = supervised_values[0:-n_test], supervised_values[-n_test:]\n",
        "\treturn scaler, train, test\n",
        " \n",
        "# fit an LSTM network to training data\n",
        "def fit_lstm(train, n_lag, n_seq, n_batch, nb_epoch, n_neurons):\n",
        "\t# reshape training into [samples, timesteps, features]\n",
        "\tX, y = train[:, 0:n_lag], train[:, n_lag:]\n",
        "\tX = X.reshape(X.shape[0], 1, X.shape[1])\n",
        "\t# design network\n",
        "\tmodel = Sequential()\n",
        "\tmodel.add(LSTM(n_neurons, batch_input_shape=(n_batch, X.shape[1], X.shape[2]), stateful=True))\n",
        "\tmodel.add(Dense(y.shape[1]))\n",
        "\tmodel.compile(loss='mean_squared_error', optimizer='adam')\n",
        "\t# fit network\n",
        "\tfor i in range(nb_epoch):\n",
        "\t\tmodel.fit(X, y, epochs=1, batch_size=n_batch, verbose=0, shuffle=False)\n",
        "\t\tmodel.reset_states()\n",
        "\treturn model\n",
        " \n",
        "# make one forecast with an LSTM,\n",
        "def forecast_lstm(model, X, n_batch):\n",
        "\t# reshape input pattern to [samples, timesteps, features]\n",
        "\tX = X.reshape(1, 1, len(X))\n",
        "\t# make forecast\n",
        "\tforecast = model.predict(X, batch_size=n_batch)\n",
        "\t# convert to array\n",
        "\treturn [x for x in forecast[0, :]]\n",
        " \n",
        "# evaluate the persistence model\n",
        "def make_forecasts(model, n_batch, train, test, n_lag, n_seq):\n",
        "\tforecasts = list()\n",
        "\tfor i in range(len(test)):\n",
        "\t\tX, y = test[i, 0:n_lag], test[i, n_lag:]\n",
        "\t\t# make forecast\n",
        "\t\tforecast = forecast_lstm(model, X, n_batch)\n",
        "\t\t# store the forecast\n",
        "\t\tforecasts.append(forecast)\n",
        "\treturn forecasts\n",
        " \n",
        "# invert differenced forecast\n",
        "def inverse_difference(last_ob, forecast):\n",
        "\t# invert first forecast\n",
        "\tinverted = list()\n",
        "\tinverted.append(forecast[0] + last_ob)\n",
        "\t# propagate difference forecast using inverted first value\n",
        "\tfor i in range(1, len(forecast)):\n",
        "\t\tinverted.append(forecast[i] + inverted[i-1])\n",
        "\treturn inverted\n",
        " \n",
        "# inverse data transform on forecasts\n",
        "def inverse_transform(series, forecasts, scaler, n_test):\n",
        "\tinverted = list()\n",
        "\tfor i in range(len(forecasts)):\n",
        "\t\t# create array from forecast\n",
        "\t\tforecast = array(forecasts[i])\n",
        "\t\tforecast = forecast.reshape(1, len(forecast))\n",
        "\t\t# invert scaling\n",
        "\t\tinv_scale = scaler.inverse_transform(forecast)\n",
        "\t\tinv_scale = inv_scale[0, :]\n",
        "\t\t# invert differencing\n",
        "\t\tindex = len(series) - n_test + i - 1\n",
        "\t\tlast_ob = series.values[index]\n",
        "\t\tinv_diff = inverse_difference(last_ob, inv_scale)\n",
        "\t\t# store\n",
        "\t\tinverted.append(inv_diff)\n",
        "\treturn inverted\n",
        " \n",
        "# evaluate the RMSE for each forecast time step\n",
        "def evaluate_forecasts(test, forecasts, n_lag, n_seq):\n",
        "\tfor i in range(n_seq):\n",
        "\t\tactual = [row[i] for row in test]\n",
        "\t\tpredicted = [forecast[i] for forecast in forecasts]\n",
        "\t\trmse = sqrt(mean_squared_error(actual, predicted))\n",
        "\t\tprint('t+%d RMSE: %f' % ((i+1), rmse))\n",
        " \n",
        "# plot the forecasts in the context of the original dataset\n",
        "def plot_forecasts(series, forecasts, n_test):\n",
        "\t# plot the entire dataset in blue\n",
        "\tpyplot.plot(series.values)\n",
        "\t# plot the forecasts in red\n",
        "\tfor i in range(len(forecasts)):\n",
        "\t\toff_s = len(series) - n_test + i - 1\n",
        "\t\toff_e = off_s + len(forecasts[i]) + 1\n",
        "\t\txaxis = [x for x in range(off_s, off_e)]\n",
        "\t\tyaxis = [series.values[off_s]] + forecasts[i]\n",
        "\t\tpyplot.plot(xaxis, yaxis, color='red')\n",
        "\t# show the plot\n",
        "\tpyplot.show()\n",
        " \n",
        "# load dataset\n",
        "series = read_csv('https://raw.githubusercontent.com/jbrownlee/Datasets/master/shampoo.csv', header=0, parse_dates=[0], index_col=0, squeeze=True, date_parser=parser)\n",
        "# configure\n",
        "n_lag = 1\n",
        "n_seq = 3\n",
        "n_test = 10\n",
        "n_epochs = 1500\n",
        "n_batch = 1\n",
        "n_neurons = 1\n",
        "# prepare data\n",
        "scaler, train, test = prepare_data(series, n_test, n_lag, n_seq)\n",
        "# fit model\n",
        "model = fit_lstm(train, n_lag, n_seq, n_batch, n_epochs, n_neurons)\n",
        "# make forecasts\n",
        "forecasts = make_forecasts(model, n_batch, train, test, n_lag, n_seq)\n",
        "# inverse transform forecasts and test\n",
        "forecasts = inverse_transform(series, forecasts, scaler, n_test+2)\n",
        "actual = [row[n_lag:] for row in test]\n",
        "actual = inverse_transform(series, actual, scaler, n_test+2)\n",
        "# evaluate forecasts\n",
        "evaluate_forecasts(actual, forecasts, n_lag, n_seq)\n",
        "# plot forecasts\n",
        "plot_forecasts(series, forecasts, n_test+2)"
      ],
      "execution_count": 9,
      "outputs": [
        {
          "output_type": "stream",
          "text": [
            "Using TensorFlow backend.\n",
            "/usr/local/lib/python3.6/dist-packages/ipykernel_launcher.py:16: FutureWarning: The pandas.datetime class is deprecated and will be removed from pandas in a future version. Import from datetime instead.\n",
            "  app.launch_new_instance()\n"
          ],
          "name": "stderr"
        },
        {
          "output_type": "stream",
          "text": [
            "t+1 RMSE: 101.610321\n",
            "t+2 RMSE: 79.998719\n",
            "t+3 RMSE: 105.237128\n"
          ],
          "name": "stdout"
        },
        {
          "output_type": "display_data",
          "data": {
            "image/png": "[encoded data removed]",
            "text/plain": [
              "<Figure size 432x288 with 1 Axes>"
            ]
          },
          "metadata": {
            "tags": [],
            "needs_background": "light"
          }
        }
      ]
    }
  ]
}