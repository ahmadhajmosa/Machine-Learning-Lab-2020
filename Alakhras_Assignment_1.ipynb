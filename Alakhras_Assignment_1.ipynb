{
  "nbformat": 4,
  "nbformat_minor": 0,
  "metadata": {
    "colab": {
      "name": "Alakhras_Assignment_1.ipynb",
      "provenance": [],
      "collapsed_sections": [],
      "authorship_tag": "ABX9TyN4V1sKJboEh+4l60Rch4V3",
      "include_colab_link": true
    },
    "kernelspec": {
      "name": "python3",
      "display_name": "Python 3"
    }
  },
  "cells": [
    {
      "cell_type": "markdown",
      "metadata": {
        "id": "view-in-github",
        "colab_type": "text"
      },
      "source": [
        "<a href=\"https://colab.research.google.com/github/ahmadhajmosa/Machine-Learning-Lab-2020/blob/Alakhras/Alakhras_Assignment_1.ipynb\" target=\"_parent\"><img src=\"https://colab.research.google.com/assets/colab-badge.svg\" alt=\"Open In Colab\"/></a>"
      ]
    },
    {
      "cell_type": "markdown",
      "metadata": {
        "id": "RKZ_ZJRmJhjU",
        "colab_type": "text"
      },
      "source": [
        "Assignment 1 (2 and 3 hidden layers)"
      ]
    },
    {
      "cell_type": "code",
      "metadata": {
        "id": "bypkMClUJA_1",
        "colab_type": "code",
        "colab": {
          "base_uri": "https://localhost:8080/",
          "height": 73
        },
        "outputId": "c8d3b28c-8a48-48cc-d803-5e5b26cf2277"
      },
      "source": [
        "#code by Abdullah Alakhras\n",
        "#2 hidden layers\n",
        "import numpy as np\n",
        "\n",
        "#neural network structure\n",
        "m = 30 # number of samples\n",
        "ni = 4 # number of future inputs\n",
        "h = 2 # number of hidden layers\n",
        "nh1 = 6 #number of neurons in the hidden layer 1\n",
        "nh2 = 3 #number of neurons in the hidden layer 2\n",
        "no = 1 #number of neurons in the output layer\n",
        "\n",
        "f = lambda x: 1.0/(1.0 + np.exp(-x)) # activation function\n",
        "\n",
        "#generating 10 samples of 3 future inputs\n",
        "X = np.random.rand(ni,m)\n",
        "\n",
        "#generating randoms weights in a vector W1 for the inputs of the first hidden layer\n",
        "W1 = np.random.rand(nh1,ni)\n",
        "\n",
        "#generate bias for the first hidden layer\n",
        "b1 = np.random.rand(nh1,1)\n",
        "\n",
        "#generating randoms weights in a vector W2 for the inputs of the second hidden layer\n",
        "W2 = np.random.rand(nh2,nh1)\n",
        "\n",
        "#generate bias for the second hidden layer\n",
        "b2 = np.random.rand(nh2,1)\n",
        "\n",
        "#generating randoms weights in a vector W3 for the inputs of the output layer\n",
        "W3 = np.random.rand(no,nh2)\n",
        "\n",
        "#generate bias for the output layer\n",
        "b3 = np.random.rand(no,1)\n",
        "\n",
        "#calculate the output of the first hidden layer\n",
        "Yh1 = f(np.dot(W1,X)+ b1)\n",
        "#calculate the output of the second hidden layer\n",
        "Yh2 = f(np.dot(W2,Yh1)+ b2)\n",
        "#calculate the output of the output layer layer\n",
        "Y = f(np.dot(W3,Yh2)+ b3)\n",
        "\n",
        "display(Yh1.shape)\n",
        "display(Yh2.shape)\n",
        "display(Y.shape)"
      ],
      "execution_count": 5,
      "outputs": [
        {
          "output_type": "display_data",
          "data": {
            "text/plain": [
              "(6, 30)"
            ]
          },
          "metadata": {
            "tags": []
          }
        },
        {
          "output_type": "display_data",
          "data": {
            "text/plain": [
              "(3, 30)"
            ]
          },
          "metadata": {
            "tags": []
          }
        },
        {
          "output_type": "display_data",
          "data": {
            "text/plain": [
              "(1, 30)"
            ]
          },
          "metadata": {
            "tags": []
          }
        }
      ]
    },
    {
      "cell_type": "code",
      "metadata": {
        "id": "tKmwQ8iBJYsV",
        "colab_type": "code",
        "colab": {
          "base_uri": "https://localhost:8080/",
          "height": 92
        },
        "outputId": "3ff97cf4-6312-4e90-98b0-72eb594566a0"
      },
      "source": [
        "#code by Abdullah Alakhras\n",
        "#3 hidden layers\n",
        "import numpy as np\n",
        "\n",
        "#neural network structure\n",
        "m = 30 # number of samples\n",
        "ni = 4 # number of future inputs\n",
        "h = 3 # number of hidden layers\n",
        "nh1 = 6 #number of neurons in the hidden layer 1\n",
        "nh2 = 3 #number of neurons in the hidden layer 2\n",
        "nh3 = 2 #number of neurons in the hidden layer 3\n",
        "\n",
        "no = 1 #number of neurons in the output layer\n",
        "\n",
        "f = lambda x: 1.0/(1.0 + np.exp(-x)) # activation function\n",
        "\n",
        "#generating 10 samples of 3 future inputs\n",
        "X = np.random.rand(ni,m)\n",
        "\n",
        "#generating randoms weights in a vector W1 for the inputs of the first hidden layer\n",
        "W1 = np.random.rand(nh1,ni)\n",
        "\n",
        "#generate bias for the first hidden layer\n",
        "b1 = np.random.rand(nh1,1)\n",
        "\n",
        "#generating randoms weights in a vector W2 for the inputs of the second hidden layer\n",
        "W2 = np.random.rand(nh2,nh1)\n",
        "\n",
        "#generate bias for the second hidden layer\n",
        "b2 = np.random.rand(nh2,1)\n",
        "\n",
        "#generating randoms weights in a vector W2 for the inputs of the second hidden layer\n",
        "W3 = np.random.rand(nh3,nh2)\n",
        "\n",
        "#generate bias for the second hidden layer\n",
        "b3 = np.random.rand(nh3,1)\n",
        "\n",
        "#generating randoms weights in a vector W3 for the inputs of the output layer\n",
        "W4 = np.random.rand(no,nh3)\n",
        "\n",
        "#generate bias for the output layer\n",
        "b4 = np.random.rand(no,1)\n",
        "\n",
        "#calculate the output of the first hidden layer\n",
        "Yh1 = f(np.dot(W1,X)+ b1)\n",
        "#calculate the output of the second hidden layer\n",
        "Yh2 = f(np.dot(W2,Yh1)+ b2)\n",
        "#calculate the output of the third hidden layer\n",
        "Yh3 = f(np.dot(W3,Yh2)+ b3)\n",
        "#calculate the output of the output layer layer\n",
        "Y = f(np.dot(W4,Yh3)+ b4)\n",
        "\n",
        "display(Yh1.shape)\n",
        "display(Yh2.shape)\n",
        "display(Yh3.shape)\n",
        "display(Y.shape)"
      ],
      "execution_count": 6,
      "outputs": [
        {
          "output_type": "display_data",
          "data": {
            "text/plain": [
              "(6, 30)"
            ]
          },
          "metadata": {
            "tags": []
          }
        },
        {
          "output_type": "display_data",
          "data": {
            "text/plain": [
              "(3, 30)"
            ]
          },
          "metadata": {
            "tags": []
          }
        },
        {
          "output_type": "display_data",
          "data": {
            "text/plain": [
              "(2, 30)"
            ]
          },
          "metadata": {
            "tags": []
          }
        },
        {
          "output_type": "display_data",
          "data": {
            "text/plain": [
              "(1, 30)"
            ]
          },
          "metadata": {
            "tags": []
          }
        }
      ]
    }
  ]
}